{
 "cells": [
  {
   "cell_type": "markdown",
   "id": "1f5b5961",
   "metadata": {},
   "source": [
    "# Task 3: Exploratory Data Analysis on Retail Superstore Dataset"
   ]
  },
  {
   "cell_type": "markdown",
   "id": "c51a204a",
   "metadata": {},
   "source": [
    "### The Sparks Foundation: GRIP April 2024 "
   ]
  },
  {
   "cell_type": "markdown",
   "id": "3b9b172b",
   "metadata": {},
   "source": [
    "### BY: Divya Shah. "
   ]
  },
  {
   "cell_type": "markdown",
   "id": "25965f15",
   "metadata": {},
   "source": [
    "### Objective:\n",
    "**1. Perform EDA on sample superstore dataset.**\n",
    "\n",
    "**2. As a business manager try to find out weak areas where you can work to make more profit.**\n",
    "\n",
    "**3. Find out all business problems you can derive from the given dataset.**"
   ]
  },
  {
   "cell_type": "markdown",
   "id": "9215eadc",
   "metadata": {},
   "source": [
    "### Importing necessary libraries"
   ]
  },
  {
   "cell_type": "code",
   "execution_count": 1,
   "id": "285c6f5b",
   "metadata": {},
   "outputs": [],
   "source": [
    "import warnings\n",
    "warnings.filterwarnings('ignore')"
   ]
  },
  {
   "cell_type": "code",
   "execution_count": 2,
   "id": "dd8a3452",
   "metadata": {},
   "outputs": [],
   "source": [
    "import pandas as pd \n",
    "import numpy as np \n",
    "import seaborn as sns \n",
    "import matplotlib.pyplot as plt "
   ]
  },
  {
   "cell_type": "markdown",
   "id": "47b7bd8d",
   "metadata": {},
   "source": [
    "### Reading the dataset"
   ]
  },
  {
   "cell_type": "code",
   "execution_count": 3,
   "id": "1b165036",
   "metadata": {},
   "outputs": [],
   "source": [
    "df = pd.read_csv(\"SampleSuperstore.csv\")"
   ]
  },
  {
   "cell_type": "code",
   "execution_count": 4,
   "id": "9eb7e9f5",
   "metadata": {},
   "outputs": [
    {
     "data": {
      "text/html": [
       "<div>\n",
       "<style scoped>\n",
       "    .dataframe tbody tr th:only-of-type {\n",
       "        vertical-align: middle;\n",
       "    }\n",
       "\n",
       "    .dataframe tbody tr th {\n",
       "        vertical-align: top;\n",
       "    }\n",
       "\n",
       "    .dataframe thead th {\n",
       "        text-align: right;\n",
       "    }\n",
       "</style>\n",
       "<table border=\"1\" class=\"dataframe\">\n",
       "  <thead>\n",
       "    <tr style=\"text-align: right;\">\n",
       "      <th></th>\n",
       "      <th>Ship Mode</th>\n",
       "      <th>Segment</th>\n",
       "      <th>Country</th>\n",
       "      <th>City</th>\n",
       "      <th>State</th>\n",
       "      <th>Postal Code</th>\n",
       "      <th>Region</th>\n",
       "      <th>Category</th>\n",
       "      <th>Sub-Category</th>\n",
       "      <th>Sales</th>\n",
       "      <th>Quantity</th>\n",
       "      <th>Discount</th>\n",
       "      <th>Profit</th>\n",
       "    </tr>\n",
       "  </thead>\n",
       "  <tbody>\n",
       "    <tr>\n",
       "      <th>0</th>\n",
       "      <td>Second Class</td>\n",
       "      <td>Consumer</td>\n",
       "      <td>United States</td>\n",
       "      <td>Henderson</td>\n",
       "      <td>Kentucky</td>\n",
       "      <td>42420</td>\n",
       "      <td>South</td>\n",
       "      <td>Furniture</td>\n",
       "      <td>Bookcases</td>\n",
       "      <td>261.9600</td>\n",
       "      <td>2</td>\n",
       "      <td>0.00</td>\n",
       "      <td>41.9136</td>\n",
       "    </tr>\n",
       "    <tr>\n",
       "      <th>1</th>\n",
       "      <td>Second Class</td>\n",
       "      <td>Consumer</td>\n",
       "      <td>United States</td>\n",
       "      <td>Henderson</td>\n",
       "      <td>Kentucky</td>\n",
       "      <td>42420</td>\n",
       "      <td>South</td>\n",
       "      <td>Furniture</td>\n",
       "      <td>Chairs</td>\n",
       "      <td>731.9400</td>\n",
       "      <td>3</td>\n",
       "      <td>0.00</td>\n",
       "      <td>219.5820</td>\n",
       "    </tr>\n",
       "    <tr>\n",
       "      <th>2</th>\n",
       "      <td>Second Class</td>\n",
       "      <td>Corporate</td>\n",
       "      <td>United States</td>\n",
       "      <td>Los Angeles</td>\n",
       "      <td>California</td>\n",
       "      <td>90036</td>\n",
       "      <td>West</td>\n",
       "      <td>Office Supplies</td>\n",
       "      <td>Labels</td>\n",
       "      <td>14.6200</td>\n",
       "      <td>2</td>\n",
       "      <td>0.00</td>\n",
       "      <td>6.8714</td>\n",
       "    </tr>\n",
       "    <tr>\n",
       "      <th>3</th>\n",
       "      <td>Standard Class</td>\n",
       "      <td>Consumer</td>\n",
       "      <td>United States</td>\n",
       "      <td>Fort Lauderdale</td>\n",
       "      <td>Florida</td>\n",
       "      <td>33311</td>\n",
       "      <td>South</td>\n",
       "      <td>Furniture</td>\n",
       "      <td>Tables</td>\n",
       "      <td>957.5775</td>\n",
       "      <td>5</td>\n",
       "      <td>0.45</td>\n",
       "      <td>-383.0310</td>\n",
       "    </tr>\n",
       "    <tr>\n",
       "      <th>4</th>\n",
       "      <td>Standard Class</td>\n",
       "      <td>Consumer</td>\n",
       "      <td>United States</td>\n",
       "      <td>Fort Lauderdale</td>\n",
       "      <td>Florida</td>\n",
       "      <td>33311</td>\n",
       "      <td>South</td>\n",
       "      <td>Office Supplies</td>\n",
       "      <td>Storage</td>\n",
       "      <td>22.3680</td>\n",
       "      <td>2</td>\n",
       "      <td>0.20</td>\n",
       "      <td>2.5164</td>\n",
       "    </tr>\n",
       "  </tbody>\n",
       "</table>\n",
       "</div>"
      ],
      "text/plain": [
       "        Ship Mode    Segment        Country             City       State  \\\n",
       "0    Second Class   Consumer  United States        Henderson    Kentucky   \n",
       "1    Second Class   Consumer  United States        Henderson    Kentucky   \n",
       "2    Second Class  Corporate  United States      Los Angeles  California   \n",
       "3  Standard Class   Consumer  United States  Fort Lauderdale     Florida   \n",
       "4  Standard Class   Consumer  United States  Fort Lauderdale     Florida   \n",
       "\n",
       "   Postal Code Region         Category Sub-Category     Sales  Quantity  \\\n",
       "0        42420  South        Furniture    Bookcases  261.9600         2   \n",
       "1        42420  South        Furniture       Chairs  731.9400         3   \n",
       "2        90036   West  Office Supplies       Labels   14.6200         2   \n",
       "3        33311  South        Furniture       Tables  957.5775         5   \n",
       "4        33311  South  Office Supplies      Storage   22.3680         2   \n",
       "\n",
       "   Discount    Profit  \n",
       "0      0.00   41.9136  \n",
       "1      0.00  219.5820  \n",
       "2      0.00    6.8714  \n",
       "3      0.45 -383.0310  \n",
       "4      0.20    2.5164  "
      ]
     },
     "execution_count": 4,
     "metadata": {},
     "output_type": "execute_result"
    }
   ],
   "source": [
    "df.head()"
   ]
  },
  {
   "cell_type": "code",
   "execution_count": 5,
   "id": "55fc198a",
   "metadata": {},
   "outputs": [
    {
     "data": {
      "text/plain": [
       "(9994, 13)"
      ]
     },
     "execution_count": 5,
     "metadata": {},
     "output_type": "execute_result"
    }
   ],
   "source": [
    "df.shape"
   ]
  },
  {
   "cell_type": "code",
   "execution_count": 6,
   "id": "2c005ee8",
   "metadata": {},
   "outputs": [
    {
     "name": "stdout",
     "output_type": "stream",
     "text": [
      "<class 'pandas.core.frame.DataFrame'>\n",
      "RangeIndex: 9994 entries, 0 to 9993\n",
      "Data columns (total 13 columns):\n",
      " #   Column        Non-Null Count  Dtype  \n",
      "---  ------        --------------  -----  \n",
      " 0   Ship Mode     9994 non-null   object \n",
      " 1   Segment       9994 non-null   object \n",
      " 2   Country       9994 non-null   object \n",
      " 3   City          9994 non-null   object \n",
      " 4   State         9994 non-null   object \n",
      " 5   Postal Code   9994 non-null   int64  \n",
      " 6   Region        9994 non-null   object \n",
      " 7   Category      9994 non-null   object \n",
      " 8   Sub-Category  9994 non-null   object \n",
      " 9   Sales         9994 non-null   float64\n",
      " 10  Quantity      9994 non-null   int64  \n",
      " 11  Discount      9994 non-null   float64\n",
      " 12  Profit        9994 non-null   float64\n",
      "dtypes: float64(3), int64(2), object(8)\n",
      "memory usage: 1015.1+ KB\n"
     ]
    }
   ],
   "source": [
    "df.info()"
   ]
  },
  {
   "cell_type": "markdown",
   "id": "6b427de6",
   "metadata": {},
   "source": [
    "There are no null values in the dataset."
   ]
  },
  {
   "cell_type": "code",
   "execution_count": 7,
   "id": "981f25bd",
   "metadata": {},
   "outputs": [
    {
     "data": {
      "text/html": [
       "<div>\n",
       "<style scoped>\n",
       "    .dataframe tbody tr th:only-of-type {\n",
       "        vertical-align: middle;\n",
       "    }\n",
       "\n",
       "    .dataframe tbody tr th {\n",
       "        vertical-align: top;\n",
       "    }\n",
       "\n",
       "    .dataframe thead th {\n",
       "        text-align: right;\n",
       "    }\n",
       "</style>\n",
       "<table border=\"1\" class=\"dataframe\">\n",
       "  <thead>\n",
       "    <tr style=\"text-align: right;\">\n",
       "      <th></th>\n",
       "      <th>Postal Code</th>\n",
       "      <th>Sales</th>\n",
       "      <th>Quantity</th>\n",
       "      <th>Discount</th>\n",
       "      <th>Profit</th>\n",
       "    </tr>\n",
       "  </thead>\n",
       "  <tbody>\n",
       "    <tr>\n",
       "      <th>count</th>\n",
       "      <td>9994.000000</td>\n",
       "      <td>9994.000000</td>\n",
       "      <td>9994.000000</td>\n",
       "      <td>9994.000000</td>\n",
       "      <td>9994.000000</td>\n",
       "    </tr>\n",
       "    <tr>\n",
       "      <th>mean</th>\n",
       "      <td>55190.379428</td>\n",
       "      <td>229.858001</td>\n",
       "      <td>3.789574</td>\n",
       "      <td>0.156203</td>\n",
       "      <td>28.656896</td>\n",
       "    </tr>\n",
       "    <tr>\n",
       "      <th>std</th>\n",
       "      <td>32063.693350</td>\n",
       "      <td>623.245101</td>\n",
       "      <td>2.225110</td>\n",
       "      <td>0.206452</td>\n",
       "      <td>234.260108</td>\n",
       "    </tr>\n",
       "    <tr>\n",
       "      <th>min</th>\n",
       "      <td>1040.000000</td>\n",
       "      <td>0.444000</td>\n",
       "      <td>1.000000</td>\n",
       "      <td>0.000000</td>\n",
       "      <td>-6599.978000</td>\n",
       "    </tr>\n",
       "    <tr>\n",
       "      <th>25%</th>\n",
       "      <td>23223.000000</td>\n",
       "      <td>17.280000</td>\n",
       "      <td>2.000000</td>\n",
       "      <td>0.000000</td>\n",
       "      <td>1.728750</td>\n",
       "    </tr>\n",
       "    <tr>\n",
       "      <th>50%</th>\n",
       "      <td>56430.500000</td>\n",
       "      <td>54.490000</td>\n",
       "      <td>3.000000</td>\n",
       "      <td>0.200000</td>\n",
       "      <td>8.666500</td>\n",
       "    </tr>\n",
       "    <tr>\n",
       "      <th>75%</th>\n",
       "      <td>90008.000000</td>\n",
       "      <td>209.940000</td>\n",
       "      <td>5.000000</td>\n",
       "      <td>0.200000</td>\n",
       "      <td>29.364000</td>\n",
       "    </tr>\n",
       "    <tr>\n",
       "      <th>max</th>\n",
       "      <td>99301.000000</td>\n",
       "      <td>22638.480000</td>\n",
       "      <td>14.000000</td>\n",
       "      <td>0.800000</td>\n",
       "      <td>8399.976000</td>\n",
       "    </tr>\n",
       "  </tbody>\n",
       "</table>\n",
       "</div>"
      ],
      "text/plain": [
       "        Postal Code         Sales     Quantity     Discount       Profit\n",
       "count   9994.000000   9994.000000  9994.000000  9994.000000  9994.000000\n",
       "mean   55190.379428    229.858001     3.789574     0.156203    28.656896\n",
       "std    32063.693350    623.245101     2.225110     0.206452   234.260108\n",
       "min     1040.000000      0.444000     1.000000     0.000000 -6599.978000\n",
       "25%    23223.000000     17.280000     2.000000     0.000000     1.728750\n",
       "50%    56430.500000     54.490000     3.000000     0.200000     8.666500\n",
       "75%    90008.000000    209.940000     5.000000     0.200000    29.364000\n",
       "max    99301.000000  22638.480000    14.000000     0.800000  8399.976000"
      ]
     },
     "execution_count": 7,
     "metadata": {},
     "output_type": "execute_result"
    }
   ],
   "source": [
    "df.describe()"
   ]
  },
  {
   "cell_type": "code",
   "execution_count": 8,
   "id": "f3b8e8d9",
   "metadata": {},
   "outputs": [
    {
     "data": {
      "text/plain": [
       "Ship Mode          4\n",
       "Segment            3\n",
       "Country            1\n",
       "City             531\n",
       "State             49\n",
       "Postal Code      631\n",
       "Region             4\n",
       "Category           3\n",
       "Sub-Category      17\n",
       "Sales           5825\n",
       "Quantity          14\n",
       "Discount          12\n",
       "Profit          7287\n",
       "dtype: int64"
      ]
     },
     "execution_count": 8,
     "metadata": {},
     "output_type": "execute_result"
    }
   ],
   "source": [
    "df.nunique()"
   ]
  },
  {
   "cell_type": "markdown",
   "id": "eb193522",
   "metadata": {},
   "source": [
    "Some Important Points: \n",
    "1. Total States : 49\n",
    "2. Region :   4 (Eastern, Western, Southern and Central)\n",
    "3. Category of products : 3\n",
    "4. Sub-categories of products :  17"
   ]
  },
  {
   "cell_type": "code",
   "execution_count": 9,
   "id": "905e241d",
   "metadata": {},
   "outputs": [
    {
     "name": "stdout",
     "output_type": "stream",
     "text": [
      "['Furniture' 'Office Supplies' 'Technology']\n"
     ]
    }
   ],
   "source": [
    "# Let's view the three unique categories of products sold by the store.\n",
    "print(df['Category'].unique())"
   ]
  },
  {
   "cell_type": "code",
   "execution_count": 10,
   "id": "3ee5c96a",
   "metadata": {},
   "outputs": [
    {
     "name": "stdout",
     "output_type": "stream",
     "text": [
      "['Bookcases' 'Chairs' 'Labels' 'Tables' 'Storage' 'Furnishings' 'Art'\n",
      " 'Phones' 'Binders' 'Appliances' 'Paper' 'Accessories' 'Envelopes'\n",
      " 'Fasteners' 'Supplies' 'Machines' 'Copiers']\n"
     ]
    }
   ],
   "source": [
    "# The above 3 categories are again divided into 17 sub-categories of products.\n",
    "print(df['Sub-Category'].unique())"
   ]
  },
  {
   "cell_type": "code",
   "execution_count": 11,
   "id": "d034d748",
   "metadata": {},
   "outputs": [
    {
     "name": "stdout",
     "output_type": "stream",
     "text": [
      "['Consumer' 'Corporate' 'Home Office']\n"
     ]
    }
   ],
   "source": [
    "# Let's view the customer segments of the superstore.\n",
    "print(df['Segment'].unique())"
   ]
  },
  {
   "cell_type": "code",
   "execution_count": 12,
   "id": "11559a89",
   "metadata": {},
   "outputs": [
    {
     "data": {
      "text/plain": [
       "17"
      ]
     },
     "execution_count": 12,
     "metadata": {},
     "output_type": "execute_result"
    }
   ],
   "source": [
    "df.duplicated().sum()"
   ]
  },
  {
   "cell_type": "code",
   "execution_count": 13,
   "id": "88a63a95",
   "metadata": {},
   "outputs": [
    {
     "data": {
      "text/html": [
       "<div>\n",
       "<style scoped>\n",
       "    .dataframe tbody tr th:only-of-type {\n",
       "        vertical-align: middle;\n",
       "    }\n",
       "\n",
       "    .dataframe tbody tr th {\n",
       "        vertical-align: top;\n",
       "    }\n",
       "\n",
       "    .dataframe thead th {\n",
       "        text-align: right;\n",
       "    }\n",
       "</style>\n",
       "<table border=\"1\" class=\"dataframe\">\n",
       "  <thead>\n",
       "    <tr style=\"text-align: right;\">\n",
       "      <th></th>\n",
       "      <th>Ship Mode</th>\n",
       "      <th>Segment</th>\n",
       "      <th>Country</th>\n",
       "      <th>City</th>\n",
       "      <th>State</th>\n",
       "      <th>Postal Code</th>\n",
       "      <th>Region</th>\n",
       "      <th>Category</th>\n",
       "      <th>Sub-Category</th>\n",
       "      <th>Sales</th>\n",
       "      <th>Quantity</th>\n",
       "      <th>Discount</th>\n",
       "      <th>Profit</th>\n",
       "    </tr>\n",
       "  </thead>\n",
       "  <tbody>\n",
       "    <tr>\n",
       "      <th>0</th>\n",
       "      <td>Second Class</td>\n",
       "      <td>Consumer</td>\n",
       "      <td>United States</td>\n",
       "      <td>Henderson</td>\n",
       "      <td>Kentucky</td>\n",
       "      <td>42420</td>\n",
       "      <td>South</td>\n",
       "      <td>Furniture</td>\n",
       "      <td>Bookcases</td>\n",
       "      <td>261.9600</td>\n",
       "      <td>2</td>\n",
       "      <td>0.00</td>\n",
       "      <td>41.9136</td>\n",
       "    </tr>\n",
       "    <tr>\n",
       "      <th>1</th>\n",
       "      <td>Second Class</td>\n",
       "      <td>Consumer</td>\n",
       "      <td>United States</td>\n",
       "      <td>Henderson</td>\n",
       "      <td>Kentucky</td>\n",
       "      <td>42420</td>\n",
       "      <td>South</td>\n",
       "      <td>Furniture</td>\n",
       "      <td>Chairs</td>\n",
       "      <td>731.9400</td>\n",
       "      <td>3</td>\n",
       "      <td>0.00</td>\n",
       "      <td>219.5820</td>\n",
       "    </tr>\n",
       "    <tr>\n",
       "      <th>2</th>\n",
       "      <td>Second Class</td>\n",
       "      <td>Corporate</td>\n",
       "      <td>United States</td>\n",
       "      <td>Los Angeles</td>\n",
       "      <td>California</td>\n",
       "      <td>90036</td>\n",
       "      <td>West</td>\n",
       "      <td>Office Supplies</td>\n",
       "      <td>Labels</td>\n",
       "      <td>14.6200</td>\n",
       "      <td>2</td>\n",
       "      <td>0.00</td>\n",
       "      <td>6.8714</td>\n",
       "    </tr>\n",
       "    <tr>\n",
       "      <th>3</th>\n",
       "      <td>Standard Class</td>\n",
       "      <td>Consumer</td>\n",
       "      <td>United States</td>\n",
       "      <td>Fort Lauderdale</td>\n",
       "      <td>Florida</td>\n",
       "      <td>33311</td>\n",
       "      <td>South</td>\n",
       "      <td>Furniture</td>\n",
       "      <td>Tables</td>\n",
       "      <td>957.5775</td>\n",
       "      <td>5</td>\n",
       "      <td>0.45</td>\n",
       "      <td>-383.0310</td>\n",
       "    </tr>\n",
       "    <tr>\n",
       "      <th>4</th>\n",
       "      <td>Standard Class</td>\n",
       "      <td>Consumer</td>\n",
       "      <td>United States</td>\n",
       "      <td>Fort Lauderdale</td>\n",
       "      <td>Florida</td>\n",
       "      <td>33311</td>\n",
       "      <td>South</td>\n",
       "      <td>Office Supplies</td>\n",
       "      <td>Storage</td>\n",
       "      <td>22.3680</td>\n",
       "      <td>2</td>\n",
       "      <td>0.20</td>\n",
       "      <td>2.5164</td>\n",
       "    </tr>\n",
       "    <tr>\n",
       "      <th>...</th>\n",
       "      <td>...</td>\n",
       "      <td>...</td>\n",
       "      <td>...</td>\n",
       "      <td>...</td>\n",
       "      <td>...</td>\n",
       "      <td>...</td>\n",
       "      <td>...</td>\n",
       "      <td>...</td>\n",
       "      <td>...</td>\n",
       "      <td>...</td>\n",
       "      <td>...</td>\n",
       "      <td>...</td>\n",
       "      <td>...</td>\n",
       "    </tr>\n",
       "    <tr>\n",
       "      <th>9989</th>\n",
       "      <td>Second Class</td>\n",
       "      <td>Consumer</td>\n",
       "      <td>United States</td>\n",
       "      <td>Miami</td>\n",
       "      <td>Florida</td>\n",
       "      <td>33180</td>\n",
       "      <td>South</td>\n",
       "      <td>Furniture</td>\n",
       "      <td>Furnishings</td>\n",
       "      <td>25.2480</td>\n",
       "      <td>3</td>\n",
       "      <td>0.20</td>\n",
       "      <td>4.1028</td>\n",
       "    </tr>\n",
       "    <tr>\n",
       "      <th>9990</th>\n",
       "      <td>Standard Class</td>\n",
       "      <td>Consumer</td>\n",
       "      <td>United States</td>\n",
       "      <td>Costa Mesa</td>\n",
       "      <td>California</td>\n",
       "      <td>92627</td>\n",
       "      <td>West</td>\n",
       "      <td>Furniture</td>\n",
       "      <td>Furnishings</td>\n",
       "      <td>91.9600</td>\n",
       "      <td>2</td>\n",
       "      <td>0.00</td>\n",
       "      <td>15.6332</td>\n",
       "    </tr>\n",
       "    <tr>\n",
       "      <th>9991</th>\n",
       "      <td>Standard Class</td>\n",
       "      <td>Consumer</td>\n",
       "      <td>United States</td>\n",
       "      <td>Costa Mesa</td>\n",
       "      <td>California</td>\n",
       "      <td>92627</td>\n",
       "      <td>West</td>\n",
       "      <td>Technology</td>\n",
       "      <td>Phones</td>\n",
       "      <td>258.5760</td>\n",
       "      <td>2</td>\n",
       "      <td>0.20</td>\n",
       "      <td>19.3932</td>\n",
       "    </tr>\n",
       "    <tr>\n",
       "      <th>9992</th>\n",
       "      <td>Standard Class</td>\n",
       "      <td>Consumer</td>\n",
       "      <td>United States</td>\n",
       "      <td>Costa Mesa</td>\n",
       "      <td>California</td>\n",
       "      <td>92627</td>\n",
       "      <td>West</td>\n",
       "      <td>Office Supplies</td>\n",
       "      <td>Paper</td>\n",
       "      <td>29.6000</td>\n",
       "      <td>4</td>\n",
       "      <td>0.00</td>\n",
       "      <td>13.3200</td>\n",
       "    </tr>\n",
       "    <tr>\n",
       "      <th>9993</th>\n",
       "      <td>Second Class</td>\n",
       "      <td>Consumer</td>\n",
       "      <td>United States</td>\n",
       "      <td>Westminster</td>\n",
       "      <td>California</td>\n",
       "      <td>92683</td>\n",
       "      <td>West</td>\n",
       "      <td>Office Supplies</td>\n",
       "      <td>Appliances</td>\n",
       "      <td>243.1600</td>\n",
       "      <td>2</td>\n",
       "      <td>0.00</td>\n",
       "      <td>72.9480</td>\n",
       "    </tr>\n",
       "  </tbody>\n",
       "</table>\n",
       "<p>9977 rows × 13 columns</p>\n",
       "</div>"
      ],
      "text/plain": [
       "           Ship Mode    Segment        Country             City       State  \\\n",
       "0       Second Class   Consumer  United States        Henderson    Kentucky   \n",
       "1       Second Class   Consumer  United States        Henderson    Kentucky   \n",
       "2       Second Class  Corporate  United States      Los Angeles  California   \n",
       "3     Standard Class   Consumer  United States  Fort Lauderdale     Florida   \n",
       "4     Standard Class   Consumer  United States  Fort Lauderdale     Florida   \n",
       "...              ...        ...            ...              ...         ...   \n",
       "9989    Second Class   Consumer  United States            Miami     Florida   \n",
       "9990  Standard Class   Consumer  United States       Costa Mesa  California   \n",
       "9991  Standard Class   Consumer  United States       Costa Mesa  California   \n",
       "9992  Standard Class   Consumer  United States       Costa Mesa  California   \n",
       "9993    Second Class   Consumer  United States      Westminster  California   \n",
       "\n",
       "      Postal Code Region         Category Sub-Category     Sales  Quantity  \\\n",
       "0           42420  South        Furniture    Bookcases  261.9600         2   \n",
       "1           42420  South        Furniture       Chairs  731.9400         3   \n",
       "2           90036   West  Office Supplies       Labels   14.6200         2   \n",
       "3           33311  South        Furniture       Tables  957.5775         5   \n",
       "4           33311  South  Office Supplies      Storage   22.3680         2   \n",
       "...           ...    ...              ...          ...       ...       ...   \n",
       "9989        33180  South        Furniture  Furnishings   25.2480         3   \n",
       "9990        92627   West        Furniture  Furnishings   91.9600         2   \n",
       "9991        92627   West       Technology       Phones  258.5760         2   \n",
       "9992        92627   West  Office Supplies        Paper   29.6000         4   \n",
       "9993        92683   West  Office Supplies   Appliances  243.1600         2   \n",
       "\n",
       "      Discount    Profit  \n",
       "0         0.00   41.9136  \n",
       "1         0.00  219.5820  \n",
       "2         0.00    6.8714  \n",
       "3         0.45 -383.0310  \n",
       "4         0.20    2.5164  \n",
       "...        ...       ...  \n",
       "9989      0.20    4.1028  \n",
       "9990      0.00   15.6332  \n",
       "9991      0.20   19.3932  \n",
       "9992      0.00   13.3200  \n",
       "9993      0.00   72.9480  \n",
       "\n",
       "[9977 rows x 13 columns]"
      ]
     },
     "execution_count": 13,
     "metadata": {},
     "output_type": "execute_result"
    }
   ],
   "source": [
    "df.drop_duplicates()"
   ]
  },
  {
   "cell_type": "markdown",
   "id": "b3a4f651",
   "metadata": {},
   "source": [
    "# Data Preperation"
   ]
  },
  {
   "cell_type": "code",
   "execution_count": 14,
   "id": "919cecba",
   "metadata": {},
   "outputs": [],
   "source": [
    "category_group = df.groupby(['Category', 'Sub-Category'])['Sales','Quantity','Discount','Profit'].sum().reset_index()\n",
    "segment_group = df.groupby(['Segment'])['Sales','Quantity','Discount','Profit'].sum().reset_index()\n",
    "region_group = df.groupby(['Region'])['Sales','Quantity','Discount','Profit'].sum().reset_index()\n",
    "state_group = df.groupby(['State'])['Sales','Quantity','Discount','Profit'].sum().reset_index()\n",
    "shipmode_group = df.groupby(['Ship Mode'])['Sales','Quantity','Discount','Profit'].sum().reset_index()"
   ]
  },
  {
   "cell_type": "markdown",
   "id": "40dc834a",
   "metadata": {},
   "source": [
    "# Exploratory Data Analysis"
   ]
  },
  {
   "cell_type": "markdown",
   "id": "10766c92",
   "metadata": {},
   "source": [
    "### Product Category Based EDA"
   ]
  },
  {
   "cell_type": "code",
   "execution_count": 15,
   "id": "1a2c28e9",
   "metadata": {},
   "outputs": [
    {
     "data": {
      "text/html": [
       "<div>\n",
       "<style scoped>\n",
       "    .dataframe tbody tr th:only-of-type {\n",
       "        vertical-align: middle;\n",
       "    }\n",
       "\n",
       "    .dataframe tbody tr th {\n",
       "        vertical-align: top;\n",
       "    }\n",
       "\n",
       "    .dataframe thead th {\n",
       "        text-align: right;\n",
       "    }\n",
       "</style>\n",
       "<table border=\"1\" class=\"dataframe\">\n",
       "  <thead>\n",
       "    <tr style=\"text-align: right;\">\n",
       "      <th></th>\n",
       "      <th>Category</th>\n",
       "      <th>Sub-Category</th>\n",
       "      <th>Sales</th>\n",
       "      <th>Quantity</th>\n",
       "      <th>Discount</th>\n",
       "      <th>Profit</th>\n",
       "    </tr>\n",
       "  </thead>\n",
       "  <tbody>\n",
       "    <tr>\n",
       "      <th>0</th>\n",
       "      <td>Furniture</td>\n",
       "      <td>Bookcases</td>\n",
       "      <td>114879.9963</td>\n",
       "      <td>868</td>\n",
       "      <td>48.14</td>\n",
       "      <td>-3472.5560</td>\n",
       "    </tr>\n",
       "    <tr>\n",
       "      <th>1</th>\n",
       "      <td>Furniture</td>\n",
       "      <td>Chairs</td>\n",
       "      <td>328449.1030</td>\n",
       "      <td>2356</td>\n",
       "      <td>105.00</td>\n",
       "      <td>26590.1663</td>\n",
       "    </tr>\n",
       "    <tr>\n",
       "      <th>2</th>\n",
       "      <td>Furniture</td>\n",
       "      <td>Furnishings</td>\n",
       "      <td>91705.1640</td>\n",
       "      <td>3563</td>\n",
       "      <td>132.40</td>\n",
       "      <td>13059.1436</td>\n",
       "    </tr>\n",
       "    <tr>\n",
       "      <th>3</th>\n",
       "      <td>Furniture</td>\n",
       "      <td>Tables</td>\n",
       "      <td>206965.5320</td>\n",
       "      <td>1241</td>\n",
       "      <td>83.35</td>\n",
       "      <td>-17725.4811</td>\n",
       "    </tr>\n",
       "    <tr>\n",
       "      <th>4</th>\n",
       "      <td>Office Supplies</td>\n",
       "      <td>Appliances</td>\n",
       "      <td>107532.1610</td>\n",
       "      <td>1729</td>\n",
       "      <td>77.60</td>\n",
       "      <td>18138.0054</td>\n",
       "    </tr>\n",
       "    <tr>\n",
       "      <th>5</th>\n",
       "      <td>Office Supplies</td>\n",
       "      <td>Art</td>\n",
       "      <td>27118.7920</td>\n",
       "      <td>3000</td>\n",
       "      <td>59.60</td>\n",
       "      <td>6527.7870</td>\n",
       "    </tr>\n",
       "    <tr>\n",
       "      <th>6</th>\n",
       "      <td>Office Supplies</td>\n",
       "      <td>Binders</td>\n",
       "      <td>203412.7330</td>\n",
       "      <td>5974</td>\n",
       "      <td>567.00</td>\n",
       "      <td>30221.7633</td>\n",
       "    </tr>\n",
       "    <tr>\n",
       "      <th>7</th>\n",
       "      <td>Office Supplies</td>\n",
       "      <td>Envelopes</td>\n",
       "      <td>16476.4020</td>\n",
       "      <td>906</td>\n",
       "      <td>20.40</td>\n",
       "      <td>6964.1767</td>\n",
       "    </tr>\n",
       "    <tr>\n",
       "      <th>8</th>\n",
       "      <td>Office Supplies</td>\n",
       "      <td>Fasteners</td>\n",
       "      <td>3024.2800</td>\n",
       "      <td>914</td>\n",
       "      <td>17.80</td>\n",
       "      <td>949.5182</td>\n",
       "    </tr>\n",
       "    <tr>\n",
       "      <th>9</th>\n",
       "      <td>Office Supplies</td>\n",
       "      <td>Labels</td>\n",
       "      <td>12486.3120</td>\n",
       "      <td>1400</td>\n",
       "      <td>25.00</td>\n",
       "      <td>5546.2540</td>\n",
       "    </tr>\n",
       "    <tr>\n",
       "      <th>10</th>\n",
       "      <td>Office Supplies</td>\n",
       "      <td>Paper</td>\n",
       "      <td>78479.2060</td>\n",
       "      <td>5178</td>\n",
       "      <td>102.60</td>\n",
       "      <td>34053.5693</td>\n",
       "    </tr>\n",
       "    <tr>\n",
       "      <th>11</th>\n",
       "      <td>Office Supplies</td>\n",
       "      <td>Storage</td>\n",
       "      <td>223843.6080</td>\n",
       "      <td>3158</td>\n",
       "      <td>63.20</td>\n",
       "      <td>21278.8264</td>\n",
       "    </tr>\n",
       "    <tr>\n",
       "      <th>12</th>\n",
       "      <td>Office Supplies</td>\n",
       "      <td>Supplies</td>\n",
       "      <td>46673.5380</td>\n",
       "      <td>647</td>\n",
       "      <td>14.60</td>\n",
       "      <td>-1189.0995</td>\n",
       "    </tr>\n",
       "    <tr>\n",
       "      <th>13</th>\n",
       "      <td>Technology</td>\n",
       "      <td>Accessories</td>\n",
       "      <td>167380.3180</td>\n",
       "      <td>2976</td>\n",
       "      <td>60.80</td>\n",
       "      <td>41936.6357</td>\n",
       "    </tr>\n",
       "    <tr>\n",
       "      <th>14</th>\n",
       "      <td>Technology</td>\n",
       "      <td>Copiers</td>\n",
       "      <td>149528.0300</td>\n",
       "      <td>234</td>\n",
       "      <td>11.00</td>\n",
       "      <td>55617.8249</td>\n",
       "    </tr>\n",
       "    <tr>\n",
       "      <th>15</th>\n",
       "      <td>Technology</td>\n",
       "      <td>Machines</td>\n",
       "      <td>189238.6310</td>\n",
       "      <td>440</td>\n",
       "      <td>35.20</td>\n",
       "      <td>3384.7569</td>\n",
       "    </tr>\n",
       "    <tr>\n",
       "      <th>16</th>\n",
       "      <td>Technology</td>\n",
       "      <td>Phones</td>\n",
       "      <td>330007.0540</td>\n",
       "      <td>3289</td>\n",
       "      <td>137.40</td>\n",
       "      <td>44515.7306</td>\n",
       "    </tr>\n",
       "  </tbody>\n",
       "</table>\n",
       "</div>"
      ],
      "text/plain": [
       "           Category Sub-Category        Sales  Quantity  Discount      Profit\n",
       "0         Furniture    Bookcases  114879.9963       868     48.14  -3472.5560\n",
       "1         Furniture       Chairs  328449.1030      2356    105.00  26590.1663\n",
       "2         Furniture  Furnishings   91705.1640      3563    132.40  13059.1436\n",
       "3         Furniture       Tables  206965.5320      1241     83.35 -17725.4811\n",
       "4   Office Supplies   Appliances  107532.1610      1729     77.60  18138.0054\n",
       "5   Office Supplies          Art   27118.7920      3000     59.60   6527.7870\n",
       "6   Office Supplies      Binders  203412.7330      5974    567.00  30221.7633\n",
       "7   Office Supplies    Envelopes   16476.4020       906     20.40   6964.1767\n",
       "8   Office Supplies    Fasteners    3024.2800       914     17.80    949.5182\n",
       "9   Office Supplies       Labels   12486.3120      1400     25.00   5546.2540\n",
       "10  Office Supplies        Paper   78479.2060      5178    102.60  34053.5693\n",
       "11  Office Supplies      Storage  223843.6080      3158     63.20  21278.8264\n",
       "12  Office Supplies     Supplies   46673.5380       647     14.60  -1189.0995\n",
       "13       Technology  Accessories  167380.3180      2976     60.80  41936.6357\n",
       "14       Technology      Copiers  149528.0300       234     11.00  55617.8249\n",
       "15       Technology     Machines  189238.6310       440     35.20   3384.7569\n",
       "16       Technology       Phones  330007.0540      3289    137.40  44515.7306"
      ]
     },
     "execution_count": 15,
     "metadata": {},
     "output_type": "execute_result"
    }
   ],
   "source": [
    "category_group"
   ]
  },
  {
   "cell_type": "code",
   "execution_count": 16,
   "id": "06e5e459",
   "metadata": {},
   "outputs": [
    {
     "data": {
      "image/png": "[encoded data removed]",
      "text/plain": [
       "<Figure size 1080x360 with 3 Axes>"
      ]
     },
     "metadata": {
      "needs_background": "light"
     },
     "output_type": "display_data"
    },
    {
     "data": {
      "image/png": "[encoded data removed]",
      "text/plain": [
       "<Figure size 1080x360 with 3 Axes>"
      ]
     },
     "metadata": {
      "needs_background": "light"
     },
     "output_type": "display_data"
    },
    {
     "data": {
      "image/png": "[encoded data removed]",
      "text/plain": [
       "<Figure size 1080x360 with 3 Axes>"
      ]
     },
     "metadata": {
      "needs_background": "light"
     },
     "output_type": "display_data"
    },
    {
     "data": {
      "image/png": "[encoded data removed]",
      "text/plain": [
       "<Figure size 1080x360 with 3 Axes>"
      ]
     },
     "metadata": {
      "needs_background": "light"
     },
     "output_type": "display_data"
    }
   ],
   "source": [
    "a = sns.catplot(x=\"Sales\", \n",
    "                y=\"Sub-Category\",\n",
    "                col=\"Category\",\n",
    "                data=category_group,\n",
    "                kind='bar')\n",
    "\n",
    "b = sns.catplot(x=\"Quantity\", \n",
    "                y=\"Sub-Category\",\n",
    "                col=\"Category\",\n",
    "                data=category_group,\n",
    "                kind='bar')\n",
    "\n",
    "c = sns.catplot(x=\"Discount\", \n",
    "                y=\"Sub-Category\",\n",
    "                col=\"Category\",\n",
    "                data=category_group,\n",
    "                kind='bar')\n",
    "\n",
    "d = sns.catplot(x=\"Profit\", \n",
    "                y=\"Sub-Category\",\n",
    "                col=\"Category\",\n",
    "                data=category_group,\n",
    "                kind='bar')"
   ]
  },
  {
   "cell_type": "markdown",
   "id": "f423e25f",
   "metadata": {},
   "source": [
    "From the above graph, we can deduce that,\n",
    "1. Sales: The sales are greater in Technology and Furniture category than home office. \n",
    "2. Quantity Sold: Office supplies' products are sold in greater quantities. \n",
    "3. Discount: Discounts are offered more in office supplies category. \n",
    "4. Profit: The technology products have made more profit.\n",
    "\n",
    "Important Insights:\n",
    "1. Phones, Chairs, Storage and Binders respectively have generated more sales.\n",
    "2. Binders, Papers, Furnishings, Phones and Accessories are sold in greater quantities respectively. \n",
    "3. Binders, Furnishings, Phones and Chairs have been sold at higher discounts which justifies their sales and quantities sold.\n",
    "4. Copiers, Phones, Accessories, Papers, Copiers, Binders and Chair have generated maximum profits.\n",
    "5. Tables, Bookcases and Supplies are loss making products."
   ]
  },
  {
   "cell_type": "markdown",
   "id": "6119fab3",
   "metadata": {},
   "source": [
    "### Customer Segment-Wise EDA"
   ]
  },
  {
   "cell_type": "code",
   "execution_count": 17,
   "id": "35dcef2c",
   "metadata": {},
   "outputs": [
    {
     "data": {
      "text/html": [
       "<div>\n",
       "<style scoped>\n",
       "    .dataframe tbody tr th:only-of-type {\n",
       "        vertical-align: middle;\n",
       "    }\n",
       "\n",
       "    .dataframe tbody tr th {\n",
       "        vertical-align: top;\n",
       "    }\n",
       "\n",
       "    .dataframe thead th {\n",
       "        text-align: right;\n",
       "    }\n",
       "</style>\n",
       "<table border=\"1\" class=\"dataframe\">\n",
       "  <thead>\n",
       "    <tr style=\"text-align: right;\">\n",
       "      <th></th>\n",
       "      <th>Segment</th>\n",
       "      <th>Sales</th>\n",
       "      <th>Quantity</th>\n",
       "      <th>Discount</th>\n",
       "      <th>Profit</th>\n",
       "    </tr>\n",
       "  </thead>\n",
       "  <tbody>\n",
       "    <tr>\n",
       "      <th>0</th>\n",
       "      <td>Consumer</td>\n",
       "      <td>1.161401e+06</td>\n",
       "      <td>19521</td>\n",
       "      <td>820.91</td>\n",
       "      <td>134119.2092</td>\n",
       "    </tr>\n",
       "    <tr>\n",
       "      <th>1</th>\n",
       "      <td>Corporate</td>\n",
       "      <td>7.061464e+05</td>\n",
       "      <td>11608</td>\n",
       "      <td>477.85</td>\n",
       "      <td>91979.1340</td>\n",
       "    </tr>\n",
       "    <tr>\n",
       "      <th>2</th>\n",
       "      <td>Home Office</td>\n",
       "      <td>4.296531e+05</td>\n",
       "      <td>6744</td>\n",
       "      <td>262.33</td>\n",
       "      <td>60298.6785</td>\n",
       "    </tr>\n",
       "  </tbody>\n",
       "</table>\n",
       "</div>"
      ],
      "text/plain": [
       "       Segment         Sales  Quantity  Discount       Profit\n",
       "0     Consumer  1.161401e+06     19521    820.91  134119.2092\n",
       "1    Corporate  7.061464e+05     11608    477.85   91979.1340\n",
       "2  Home Office  4.296531e+05      6744    262.33   60298.6785"
      ]
     },
     "execution_count": 17,
     "metadata": {},
     "output_type": "execute_result"
    }
   ],
   "source": [
    "segment_group"
   ]
  },
  {
   "cell_type": "code",
   "execution_count": 18,
   "id": "e314405c",
   "metadata": {},
   "outputs": [
    {
     "data": {
      "text/plain": [
       "Text(0.5, 1.0, 'Segment-Wise Profit Gained')"
      ]
     },
     "execution_count": 18,
     "metadata": {},
     "output_type": "execute_result"
    },
    {
     "data": {
      "image/png": "[encoded data removed]",
      "text/plain": [
       "<Figure size 360x360 with 1 Axes>"
      ]
     },
     "metadata": {
      "needs_background": "light"
     },
     "output_type": "display_data"
    },
    {
     "data": {
      "image/png": "[encoded data removed]",
      "text/plain": [
       "<Figure size 360x360 with 1 Axes>"
      ]
     },
     "metadata": {
      "needs_background": "light"
     },
     "output_type": "display_data"
    },
    {
     "data": {
      "image/png": "[encoded data removed]",
      "text/plain": [
       "<Figure size 360x360 with 1 Axes>"
      ]
     },
     "metadata": {
      "needs_background": "light"
     },
     "output_type": "display_data"
    },
    {
     "data": {
      "image/png": "[encoded data removed]",
      "text/plain": [
       "<Figure size 360x360 with 1 Axes>"
      ]
     },
     "metadata": {
      "needs_background": "light"
     },
     "output_type": "display_data"
    }
   ],
   "source": [
    "a = sns.catplot(x=\"Segment\", y=\"Sales\", data=segment_group, kind='bar')\n",
    "for ax in a.axes.ravel():\n",
    "  for p in ax.patches:\n",
    "    ax.annotate(format(p.get_height(), '.2f'), \n",
    "                (p.get_x() + p.get_width() / 2., p.get_height()), \n",
    "                ha = 'center', va = 'center', xytext = (0, -100), \n",
    "                textcoords = 'offset points')\n",
    "plt.title(\"Segment-Wise Sales Done\", fontsize=20)\n",
    "\n",
    "b = sns.catplot(x=\"Segment\", y=\"Quantity\", data=segment_group, kind='bar')\n",
    "for ax in b.axes.ravel():\n",
    "  for p in ax.patches:\n",
    "    ax.annotate(format(p.get_height(), '.2f'), \n",
    "                (p.get_x() + p.get_width() / 2., p.get_height()), \n",
    "                ha = 'center', va = 'center', xytext = (0, -100), \n",
    "                textcoords = 'offset points')\n",
    "plt.title(\"Segment-Wise Quantity Sold\", fontsize=20)\n",
    "\n",
    "c = sns.catplot(x=\"Segment\", y=\"Discount\", data=segment_group, kind='bar')\n",
    "for ax in c.axes.ravel():\n",
    "  for p in ax.patches:\n",
    "    ax.annotate(format(p.get_height(), '.2f'), \n",
    "                (p.get_x() + p.get_width() / 2., p.get_height()), \n",
    "                ha = 'center', va = 'center', xytext = (0, -100), \n",
    "                textcoords = 'offset points')\n",
    "plt.title(\"Segment-Wise Discount Offered\", fontsize=20)\n",
    "\n",
    "d = sns.catplot(x=\"Segment\", y=\"Profit\", data=segment_group, kind='bar')\n",
    "for ax in d.axes.ravel():\n",
    "  for p in ax.patches:\n",
    "    ax.annotate(format(p.get_height(), '.2f'), \n",
    "                (p.get_x() + p.get_width() / 2., p.get_height()), \n",
    "                ha = 'center', va = 'center', xytext = (0, -100), \n",
    "                textcoords = 'offset points')\n",
    "plt.title(\"Segment-Wise Profit Gained\", fontsize=20)"
   ]
  },
  {
   "cell_type": "markdown",
   "id": "84d75a17",
   "metadata": {},
   "source": [
    "Important Insights:\n",
    "Consumer Segment shows higher sales, Greater quantities sold, more discounts and maximum profits followed by Corporate and Home office customer segment."
   ]
  },
  {
   "cell_type": "markdown",
   "id": "04360d3c",
   "metadata": {},
   "source": [
    "### Regional EDA "
   ]
  },
  {
   "cell_type": "code",
   "execution_count": 19,
   "id": "71c26547",
   "metadata": {},
   "outputs": [
    {
     "data": {
      "text/html": [
       "<div>\n",
       "<style scoped>\n",
       "    .dataframe tbody tr th:only-of-type {\n",
       "        vertical-align: middle;\n",
       "    }\n",
       "\n",
       "    .dataframe tbody tr th {\n",
       "        vertical-align: top;\n",
       "    }\n",
       "\n",
       "    .dataframe thead th {\n",
       "        text-align: right;\n",
       "    }\n",
       "</style>\n",
       "<table border=\"1\" class=\"dataframe\">\n",
       "  <thead>\n",
       "    <tr style=\"text-align: right;\">\n",
       "      <th></th>\n",
       "      <th>Region</th>\n",
       "      <th>Sales</th>\n",
       "      <th>Quantity</th>\n",
       "      <th>Discount</th>\n",
       "      <th>Profit</th>\n",
       "    </tr>\n",
       "  </thead>\n",
       "  <tbody>\n",
       "    <tr>\n",
       "      <th>0</th>\n",
       "      <td>Central</td>\n",
       "      <td>501239.8908</td>\n",
       "      <td>8780</td>\n",
       "      <td>558.34</td>\n",
       "      <td>39706.3625</td>\n",
       "    </tr>\n",
       "    <tr>\n",
       "      <th>1</th>\n",
       "      <td>East</td>\n",
       "      <td>678781.2400</td>\n",
       "      <td>10618</td>\n",
       "      <td>414.00</td>\n",
       "      <td>91522.7800</td>\n",
       "    </tr>\n",
       "    <tr>\n",
       "      <th>2</th>\n",
       "      <td>South</td>\n",
       "      <td>391721.9050</td>\n",
       "      <td>6209</td>\n",
       "      <td>238.55</td>\n",
       "      <td>46749.4303</td>\n",
       "    </tr>\n",
       "    <tr>\n",
       "      <th>3</th>\n",
       "      <td>West</td>\n",
       "      <td>725457.8245</td>\n",
       "      <td>12266</td>\n",
       "      <td>350.20</td>\n",
       "      <td>108418.4489</td>\n",
       "    </tr>\n",
       "  </tbody>\n",
       "</table>\n",
       "</div>"
      ],
      "text/plain": [
       "    Region        Sales  Quantity  Discount       Profit\n",
       "0  Central  501239.8908      8780    558.34   39706.3625\n",
       "1     East  678781.2400     10618    414.00   91522.7800\n",
       "2    South  391721.9050      6209    238.55   46749.4303\n",
       "3     West  725457.8245     12266    350.20  108418.4489"
      ]
     },
     "execution_count": 19,
     "metadata": {},
     "output_type": "execute_result"
    }
   ],
   "source": [
    "region_group"
   ]
  },
  {
   "cell_type": "code",
   "execution_count": 20,
   "id": "88301067",
   "metadata": {},
   "outputs": [
    {
     "data": {
      "text/plain": [
       "<Figure size 1008x504 with 0 Axes>"
      ]
     },
     "metadata": {},
     "output_type": "display_data"
    },
    {
     "data": {
      "image/png": "[encoded data removed]",
      "text/plain": [
       "<Figure size 360x360 with 1 Axes>"
      ]
     },
     "metadata": {
      "needs_background": "light"
     },
     "output_type": "display_data"
    },
    {
     "data": {
      "image/png": "[encoded data removed]",
      "text/plain": [
       "<Figure size 360x360 with 1 Axes>"
      ]
     },
     "metadata": {
      "needs_background": "light"
     },
     "output_type": "display_data"
    },
    {
     "data": {
      "image/png": "[encoded data removed]",
      "text/plain": [
       "<Figure size 360x360 with 1 Axes>"
      ]
     },
     "metadata": {
      "needs_background": "light"
     },
     "output_type": "display_data"
    },
    {
     "data": {
      "image/png": "[encoded data removed]",
      "text/plain": [
       "<Figure size 360x360 with 1 Axes>"
      ]
     },
     "metadata": {
      "needs_background": "light"
     },
     "output_type": "display_data"
    }
   ],
   "source": [
    "fig = plt.figure(figsize=(14,7))\n",
    "a = sns.catplot(x='Region',\n",
    "                y='Sales',\n",
    "                data=df,\n",
    "                kind='bar')\n",
    "for ax in a.axes.ravel():\n",
    "  for p in ax.patches:\n",
    "    ax.annotate(format(p.get_height(), '.2f'), \n",
    "                (p.get_x() + p.get_width() / 2., p.get_height()), \n",
    "                ha = 'center', va = 'center', xytext = (0, -100), \n",
    "                textcoords = 'offset points')\n",
    "plt.title(\"Region-Wise Sales Done\", fontsize=20)\n",
    "\n",
    "b = sns.catplot(x='Region',\n",
    "                y='Quantity',\n",
    "                data=df,\n",
    "                kind='bar')\n",
    "for ax in b.axes.ravel():\n",
    "  for p in ax.patches:\n",
    "    ax.annotate(format(p.get_height(), '.2f'), \n",
    "                (p.get_x() + p.get_width() / 2., p.get_height()), \n",
    "                ha = 'center', va = 'center', xytext = (0, -100), \n",
    "                textcoords = 'offset points')\n",
    "plt.title(\"Region-Wise Quantity Sold\", fontsize=20)\n",
    "\n",
    "c = sns.catplot(x='Region',\n",
    "                y='Discount',\n",
    "                data=df,\n",
    "                kind='bar')\n",
    "for ax in c.axes.ravel():\n",
    "  for p in ax.patches:\n",
    "    ax.annotate(format(p.get_height(), '.2f'), \n",
    "                (p.get_x() + p.get_width() / 2., p.get_height()), \n",
    "                ha = 'center', va = 'center', xytext = (0, -100), \n",
    "                textcoords = 'offset points')\n",
    "plt.title(\"Region-Wise Discount Offered\", fontsize=20)\n",
    "\n",
    "d = sns.catplot(x='Region',\n",
    "                y='Profit',\n",
    "                data=df,\n",
    "                kind='bar')\n",
    "for ax in d.axes.ravel():\n",
    "  for p in ax.patches:\n",
    "    ax.annotate(format(p.get_height(), '.2f'), \n",
    "                (p.get_x() + p.get_width() / 2., p.get_height()), \n",
    "                ha = 'center', va = 'center', xytext = (0, -100), \n",
    "                textcoords = 'offset points')\n",
    "plt.title(\"Region-Wise Profit Gained\", fontsize=20)\n",
    "plt.show()"
   ]
  },
  {
   "cell_type": "markdown",
   "id": "083f996e",
   "metadata": {},
   "source": [
    "Important Insights:\n",
    "1. Sales Done: Sales were done higher in southern and eastern region and lower in central region.\n",
    "2. Quantity Sold: Almost equal in all regions.\n",
    "3. Discount Offered: Highest in central region and lowest in western region.\n",
    "4. Profit Gained: Lowest in Central region and highest in western region. "
   ]
  },
  {
   "cell_type": "markdown",
   "id": "6f163eb9",
   "metadata": {},
   "source": [
    "### State-wise EDA"
   ]
  },
  {
   "cell_type": "code",
   "execution_count": 21,
   "id": "214e71de",
   "metadata": {},
   "outputs": [
    {
     "data": {
      "text/html": [
       "<div>\n",
       "<style scoped>\n",
       "    .dataframe tbody tr th:only-of-type {\n",
       "        vertical-align: middle;\n",
       "    }\n",
       "\n",
       "    .dataframe tbody tr th {\n",
       "        vertical-align: top;\n",
       "    }\n",
       "\n",
       "    .dataframe thead th {\n",
       "        text-align: right;\n",
       "    }\n",
       "</style>\n",
       "<table border=\"1\" class=\"dataframe\">\n",
       "  <thead>\n",
       "    <tr style=\"text-align: right;\">\n",
       "      <th></th>\n",
       "      <th>State</th>\n",
       "      <th>Sales</th>\n",
       "      <th>Quantity</th>\n",
       "      <th>Discount</th>\n",
       "      <th>Profit</th>\n",
       "    </tr>\n",
       "  </thead>\n",
       "  <tbody>\n",
       "    <tr>\n",
       "      <th>0</th>\n",
       "      <td>Alabama</td>\n",
       "      <td>19510.6400</td>\n",
       "      <td>256</td>\n",
       "      <td>0.00</td>\n",
       "      <td>5786.8253</td>\n",
       "    </tr>\n",
       "    <tr>\n",
       "      <th>1</th>\n",
       "      <td>Arizona</td>\n",
       "      <td>35282.0010</td>\n",
       "      <td>862</td>\n",
       "      <td>68.00</td>\n",
       "      <td>-3427.9246</td>\n",
       "    </tr>\n",
       "    <tr>\n",
       "      <th>2</th>\n",
       "      <td>Arkansas</td>\n",
       "      <td>11678.1300</td>\n",
       "      <td>240</td>\n",
       "      <td>0.00</td>\n",
       "      <td>4008.6871</td>\n",
       "    </tr>\n",
       "    <tr>\n",
       "      <th>3</th>\n",
       "      <td>California</td>\n",
       "      <td>457687.6315</td>\n",
       "      <td>7667</td>\n",
       "      <td>145.60</td>\n",
       "      <td>76381.3871</td>\n",
       "    </tr>\n",
       "    <tr>\n",
       "      <th>4</th>\n",
       "      <td>Colorado</td>\n",
       "      <td>32108.1180</td>\n",
       "      <td>693</td>\n",
       "      <td>57.60</td>\n",
       "      <td>-6527.8579</td>\n",
       "    </tr>\n",
       "    <tr>\n",
       "      <th>5</th>\n",
       "      <td>Connecticut</td>\n",
       "      <td>13384.3570</td>\n",
       "      <td>281</td>\n",
       "      <td>0.60</td>\n",
       "      <td>3511.4918</td>\n",
       "    </tr>\n",
       "    <tr>\n",
       "      <th>6</th>\n",
       "      <td>Delaware</td>\n",
       "      <td>27451.0690</td>\n",
       "      <td>367</td>\n",
       "      <td>0.60</td>\n",
       "      <td>9977.3748</td>\n",
       "    </tr>\n",
       "    <tr>\n",
       "      <th>7</th>\n",
       "      <td>District of Columbia</td>\n",
       "      <td>2865.0200</td>\n",
       "      <td>40</td>\n",
       "      <td>0.00</td>\n",
       "      <td>1059.5893</td>\n",
       "    </tr>\n",
       "    <tr>\n",
       "      <th>8</th>\n",
       "      <td>Florida</td>\n",
       "      <td>89473.7080</td>\n",
       "      <td>1379</td>\n",
       "      <td>114.65</td>\n",
       "      <td>-3399.3017</td>\n",
       "    </tr>\n",
       "    <tr>\n",
       "      <th>9</th>\n",
       "      <td>Georgia</td>\n",
       "      <td>49095.8400</td>\n",
       "      <td>705</td>\n",
       "      <td>0.00</td>\n",
       "      <td>16250.0433</td>\n",
       "    </tr>\n",
       "    <tr>\n",
       "      <th>10</th>\n",
       "      <td>Idaho</td>\n",
       "      <td>4382.4860</td>\n",
       "      <td>64</td>\n",
       "      <td>1.80</td>\n",
       "      <td>826.7231</td>\n",
       "    </tr>\n",
       "    <tr>\n",
       "      <th>11</th>\n",
       "      <td>Illinois</td>\n",
       "      <td>80166.1010</td>\n",
       "      <td>1845</td>\n",
       "      <td>191.90</td>\n",
       "      <td>-12607.8870</td>\n",
       "    </tr>\n",
       "    <tr>\n",
       "      <th>12</th>\n",
       "      <td>Indiana</td>\n",
       "      <td>53555.3600</td>\n",
       "      <td>578</td>\n",
       "      <td>0.00</td>\n",
       "      <td>18382.9363</td>\n",
       "    </tr>\n",
       "    <tr>\n",
       "      <th>13</th>\n",
       "      <td>Iowa</td>\n",
       "      <td>4579.7600</td>\n",
       "      <td>112</td>\n",
       "      <td>0.00</td>\n",
       "      <td>1183.8119</td>\n",
       "    </tr>\n",
       "    <tr>\n",
       "      <th>14</th>\n",
       "      <td>Kansas</td>\n",
       "      <td>2914.3100</td>\n",
       "      <td>74</td>\n",
       "      <td>0.00</td>\n",
       "      <td>836.4435</td>\n",
       "    </tr>\n",
       "    <tr>\n",
       "      <th>15</th>\n",
       "      <td>Kentucky</td>\n",
       "      <td>36591.7500</td>\n",
       "      <td>523</td>\n",
       "      <td>0.00</td>\n",
       "      <td>11199.6966</td>\n",
       "    </tr>\n",
       "    <tr>\n",
       "      <th>16</th>\n",
       "      <td>Louisiana</td>\n",
       "      <td>9217.0300</td>\n",
       "      <td>156</td>\n",
       "      <td>0.00</td>\n",
       "      <td>2196.1023</td>\n",
       "    </tr>\n",
       "    <tr>\n",
       "      <th>17</th>\n",
       "      <td>Maine</td>\n",
       "      <td>1270.5300</td>\n",
       "      <td>35</td>\n",
       "      <td>0.00</td>\n",
       "      <td>454.4862</td>\n",
       "    </tr>\n",
       "    <tr>\n",
       "      <th>18</th>\n",
       "      <td>Maryland</td>\n",
       "      <td>23705.5230</td>\n",
       "      <td>420</td>\n",
       "      <td>0.60</td>\n",
       "      <td>7031.1788</td>\n",
       "    </tr>\n",
       "    <tr>\n",
       "      <th>19</th>\n",
       "      <td>Massachusetts</td>\n",
       "      <td>28634.4340</td>\n",
       "      <td>491</td>\n",
       "      <td>2.10</td>\n",
       "      <td>6785.5016</td>\n",
       "    </tr>\n",
       "    <tr>\n",
       "      <th>20</th>\n",
       "      <td>Michigan</td>\n",
       "      <td>76269.6140</td>\n",
       "      <td>946</td>\n",
       "      <td>1.80</td>\n",
       "      <td>24463.1876</td>\n",
       "    </tr>\n",
       "    <tr>\n",
       "      <th>21</th>\n",
       "      <td>Minnesota</td>\n",
       "      <td>29863.1500</td>\n",
       "      <td>331</td>\n",
       "      <td>0.00</td>\n",
       "      <td>10823.1874</td>\n",
       "    </tr>\n",
       "    <tr>\n",
       "      <th>22</th>\n",
       "      <td>Mississippi</td>\n",
       "      <td>10771.3400</td>\n",
       "      <td>221</td>\n",
       "      <td>0.00</td>\n",
       "      <td>3172.9762</td>\n",
       "    </tr>\n",
       "    <tr>\n",
       "      <th>23</th>\n",
       "      <td>Missouri</td>\n",
       "      <td>22205.1500</td>\n",
       "      <td>252</td>\n",
       "      <td>0.00</td>\n",
       "      <td>6436.2105</td>\n",
       "    </tr>\n",
       "    <tr>\n",
       "      <th>24</th>\n",
       "      <td>Montana</td>\n",
       "      <td>5589.3520</td>\n",
       "      <td>56</td>\n",
       "      <td>1.00</td>\n",
       "      <td>1833.3285</td>\n",
       "    </tr>\n",
       "    <tr>\n",
       "      <th>25</th>\n",
       "      <td>Nebraska</td>\n",
       "      <td>7464.9300</td>\n",
       "      <td>136</td>\n",
       "      <td>0.00</td>\n",
       "      <td>2037.0942</td>\n",
       "    </tr>\n",
       "    <tr>\n",
       "      <th>26</th>\n",
       "      <td>Nevada</td>\n",
       "      <td>16729.1020</td>\n",
       "      <td>168</td>\n",
       "      <td>2.40</td>\n",
       "      <td>3316.7659</td>\n",
       "    </tr>\n",
       "    <tr>\n",
       "      <th>27</th>\n",
       "      <td>New Hampshire</td>\n",
       "      <td>7292.5240</td>\n",
       "      <td>127</td>\n",
       "      <td>0.30</td>\n",
       "      <td>1706.5028</td>\n",
       "    </tr>\n",
       "    <tr>\n",
       "      <th>28</th>\n",
       "      <td>New Jersey</td>\n",
       "      <td>35764.3120</td>\n",
       "      <td>454</td>\n",
       "      <td>0.60</td>\n",
       "      <td>9772.9138</td>\n",
       "    </tr>\n",
       "    <tr>\n",
       "      <th>29</th>\n",
       "      <td>New Mexico</td>\n",
       "      <td>4783.5220</td>\n",
       "      <td>151</td>\n",
       "      <td>2.20</td>\n",
       "      <td>1157.1161</td>\n",
       "    </tr>\n",
       "    <tr>\n",
       "      <th>30</th>\n",
       "      <td>New York</td>\n",
       "      <td>310876.2710</td>\n",
       "      <td>4224</td>\n",
       "      <td>62.40</td>\n",
       "      <td>74038.5486</td>\n",
       "    </tr>\n",
       "    <tr>\n",
       "      <th>31</th>\n",
       "      <td>North Carolina</td>\n",
       "      <td>55603.1640</td>\n",
       "      <td>983</td>\n",
       "      <td>70.60</td>\n",
       "      <td>-7490.9122</td>\n",
       "    </tr>\n",
       "    <tr>\n",
       "      <th>32</th>\n",
       "      <td>North Dakota</td>\n",
       "      <td>919.9100</td>\n",
       "      <td>30</td>\n",
       "      <td>0.00</td>\n",
       "      <td>230.1497</td>\n",
       "    </tr>\n",
       "    <tr>\n",
       "      <th>33</th>\n",
       "      <td>Ohio</td>\n",
       "      <td>78258.1360</td>\n",
       "      <td>1759</td>\n",
       "      <td>152.40</td>\n",
       "      <td>-16971.3766</td>\n",
       "    </tr>\n",
       "    <tr>\n",
       "      <th>34</th>\n",
       "      <td>Oklahoma</td>\n",
       "      <td>19683.3900</td>\n",
       "      <td>247</td>\n",
       "      <td>0.00</td>\n",
       "      <td>4853.9560</td>\n",
       "    </tr>\n",
       "    <tr>\n",
       "      <th>35</th>\n",
       "      <td>Oregon</td>\n",
       "      <td>17431.1500</td>\n",
       "      <td>499</td>\n",
       "      <td>35.80</td>\n",
       "      <td>-1190.4705</td>\n",
       "    </tr>\n",
       "    <tr>\n",
       "      <th>36</th>\n",
       "      <td>Pennsylvania</td>\n",
       "      <td>116511.9140</td>\n",
       "      <td>2153</td>\n",
       "      <td>192.90</td>\n",
       "      <td>-15559.9603</td>\n",
       "    </tr>\n",
       "    <tr>\n",
       "      <th>37</th>\n",
       "      <td>Rhode Island</td>\n",
       "      <td>22627.9560</td>\n",
       "      <td>199</td>\n",
       "      <td>1.20</td>\n",
       "      <td>7285.6293</td>\n",
       "    </tr>\n",
       "    <tr>\n",
       "      <th>38</th>\n",
       "      <td>South Carolina</td>\n",
       "      <td>8481.7100</td>\n",
       "      <td>172</td>\n",
       "      <td>0.00</td>\n",
       "      <td>1769.0566</td>\n",
       "    </tr>\n",
       "    <tr>\n",
       "      <th>39</th>\n",
       "      <td>South Dakota</td>\n",
       "      <td>1315.5600</td>\n",
       "      <td>42</td>\n",
       "      <td>0.00</td>\n",
       "      <td>394.8283</td>\n",
       "    </tr>\n",
       "    <tr>\n",
       "      <th>40</th>\n",
       "      <td>Tennessee</td>\n",
       "      <td>30661.8730</td>\n",
       "      <td>681</td>\n",
       "      <td>53.30</td>\n",
       "      <td>-5341.6936</td>\n",
       "    </tr>\n",
       "    <tr>\n",
       "      <th>41</th>\n",
       "      <td>Texas</td>\n",
       "      <td>170188.0458</td>\n",
       "      <td>3724</td>\n",
       "      <td>364.64</td>\n",
       "      <td>-25729.3563</td>\n",
       "    </tr>\n",
       "    <tr>\n",
       "      <th>42</th>\n",
       "      <td>Utah</td>\n",
       "      <td>11220.0560</td>\n",
       "      <td>219</td>\n",
       "      <td>3.20</td>\n",
       "      <td>2546.5335</td>\n",
       "    </tr>\n",
       "    <tr>\n",
       "      <th>43</th>\n",
       "      <td>Vermont</td>\n",
       "      <td>8929.3700</td>\n",
       "      <td>50</td>\n",
       "      <td>0.00</td>\n",
       "      <td>2244.9783</td>\n",
       "    </tr>\n",
       "    <tr>\n",
       "      <th>44</th>\n",
       "      <td>Virginia</td>\n",
       "      <td>70636.7200</td>\n",
       "      <td>893</td>\n",
       "      <td>0.00</td>\n",
       "      <td>18597.9504</td>\n",
       "    </tr>\n",
       "    <tr>\n",
       "      <th>45</th>\n",
       "      <td>Washington</td>\n",
       "      <td>138641.2700</td>\n",
       "      <td>1883</td>\n",
       "      <td>32.40</td>\n",
       "      <td>33402.6517</td>\n",
       "    </tr>\n",
       "    <tr>\n",
       "      <th>46</th>\n",
       "      <td>West Virginia</td>\n",
       "      <td>1209.8240</td>\n",
       "      <td>18</td>\n",
       "      <td>0.30</td>\n",
       "      <td>185.9216</td>\n",
       "    </tr>\n",
       "    <tr>\n",
       "      <th>47</th>\n",
       "      <td>Wisconsin</td>\n",
       "      <td>32114.6100</td>\n",
       "      <td>463</td>\n",
       "      <td>0.00</td>\n",
       "      <td>8401.8004</td>\n",
       "    </tr>\n",
       "    <tr>\n",
       "      <th>48</th>\n",
       "      <td>Wyoming</td>\n",
       "      <td>1603.1360</td>\n",
       "      <td>4</td>\n",
       "      <td>0.20</td>\n",
       "      <td>100.1960</td>\n",
       "    </tr>\n",
       "  </tbody>\n",
       "</table>\n",
       "</div>"
      ],
      "text/plain": [
       "                   State        Sales  Quantity  Discount      Profit\n",
       "0                Alabama   19510.6400       256      0.00   5786.8253\n",
       "1                Arizona   35282.0010       862     68.00  -3427.9246\n",
       "2               Arkansas   11678.1300       240      0.00   4008.6871\n",
       "3             California  457687.6315      7667    145.60  76381.3871\n",
       "4               Colorado   32108.1180       693     57.60  -6527.8579\n",
       "5            Connecticut   13384.3570       281      0.60   3511.4918\n",
       "6               Delaware   27451.0690       367      0.60   9977.3748\n",
       "7   District of Columbia    2865.0200        40      0.00   1059.5893\n",
       "8                Florida   89473.7080      1379    114.65  -3399.3017\n",
       "9                Georgia   49095.8400       705      0.00  16250.0433\n",
       "10                 Idaho    4382.4860        64      1.80    826.7231\n",
       "11              Illinois   80166.1010      1845    191.90 -12607.8870\n",
       "12               Indiana   53555.3600       578      0.00  18382.9363\n",
       "13                  Iowa    4579.7600       112      0.00   1183.8119\n",
       "14                Kansas    2914.3100        74      0.00    836.4435\n",
       "15              Kentucky   36591.7500       523      0.00  11199.6966\n",
       "16             Louisiana    9217.0300       156      0.00   2196.1023\n",
       "17                 Maine    1270.5300        35      0.00    454.4862\n",
       "18              Maryland   23705.5230       420      0.60   7031.1788\n",
       "19         Massachusetts   28634.4340       491      2.10   6785.5016\n",
       "20              Michigan   76269.6140       946      1.80  24463.1876\n",
       "21             Minnesota   29863.1500       331      0.00  10823.1874\n",
       "22           Mississippi   10771.3400       221      0.00   3172.9762\n",
       "23              Missouri   22205.1500       252      0.00   6436.2105\n",
       "24               Montana    5589.3520        56      1.00   1833.3285\n",
       "25              Nebraska    7464.9300       136      0.00   2037.0942\n",
       "26                Nevada   16729.1020       168      2.40   3316.7659\n",
       "27         New Hampshire    7292.5240       127      0.30   1706.5028\n",
       "28            New Jersey   35764.3120       454      0.60   9772.9138\n",
       "29            New Mexico    4783.5220       151      2.20   1157.1161\n",
       "30              New York  310876.2710      4224     62.40  74038.5486\n",
       "31        North Carolina   55603.1640       983     70.60  -7490.9122\n",
       "32          North Dakota     919.9100        30      0.00    230.1497\n",
       "33                  Ohio   78258.1360      1759    152.40 -16971.3766\n",
       "34              Oklahoma   19683.3900       247      0.00   4853.9560\n",
       "35                Oregon   17431.1500       499     35.80  -1190.4705\n",
       "36          Pennsylvania  116511.9140      2153    192.90 -15559.9603\n",
       "37          Rhode Island   22627.9560       199      1.20   7285.6293\n",
       "38        South Carolina    8481.7100       172      0.00   1769.0566\n",
       "39          South Dakota    1315.5600        42      0.00    394.8283\n",
       "40             Tennessee   30661.8730       681     53.30  -5341.6936\n",
       "41                 Texas  170188.0458      3724    364.64 -25729.3563\n",
       "42                  Utah   11220.0560       219      3.20   2546.5335\n",
       "43               Vermont    8929.3700        50      0.00   2244.9783\n",
       "44              Virginia   70636.7200       893      0.00  18597.9504\n",
       "45            Washington  138641.2700      1883     32.40  33402.6517\n",
       "46         West Virginia    1209.8240        18      0.30    185.9216\n",
       "47             Wisconsin   32114.6100       463      0.00   8401.8004\n",
       "48               Wyoming    1603.1360         4      0.20    100.1960"
      ]
     },
     "execution_count": 21,
     "metadata": {},
     "output_type": "execute_result"
    }
   ],
   "source": [
    "state_group"
   ]
  },
  {
   "cell_type": "code",
   "execution_count": 22,
   "id": "a86f0321",
   "metadata": {},
   "outputs": [],
   "source": [
    "sorted_sales = state_group.sort_values(['Sales'], \n",
    "                                        ascending=False)[:10]\n",
    "sorted_quantity = state_group.sort_values(['Quantity'], \n",
    "                                        ascending=False)[:10]\n",
    "sorted_discount = state_group.sort_values(['Discount'], \n",
    "                                        ascending=False)[:10]\n",
    "sorted_profit = state_group.sort_values(['Profit'], \n",
    "                                        ascending=False)[:10]"
   ]
  },
  {
   "cell_type": "code",
   "execution_count": 23,
   "id": "7d15a3a9",
   "metadata": {},
   "outputs": [
    {
     "data": {
      "image/png": "[encoded data removed]",
      "text/plain": [
       "<Figure size 432x288 with 1 Axes>"
      ]
     },
     "metadata": {},
     "output_type": "display_data"
    },
    {
     "data": {
      "image/png": "[encoded data removed]",
      "text/plain": [
       "<Figure size 432x288 with 1 Axes>"
      ]
     },
     "metadata": {},
     "output_type": "display_data"
    },
    {
     "data": {
      "image/png": "[encoded data removed]",
      "text/plain": [
       "<Figure size 432x288 with 1 Axes>"
      ]
     },
     "metadata": {},
     "output_type": "display_data"
    },
    {
     "data": {
      "image/png": "[encoded data removed]",
      "text/plain": [
       "<Figure size 432x288 with 1 Axes>"
      ]
     },
     "metadata": {},
     "output_type": "display_data"
    }
   ],
   "source": [
    "sales_values = sorted_sales.Sales\n",
    "quantity_values = sorted_quantity.Quantity\n",
    "discount_values = sorted_discount.Discount\n",
    "profit_values = sorted_profit.Profit\n",
    "\n",
    "sales_labels = sorted_sales.State\n",
    "quantity_labels = sorted_quantity.State\n",
    "discount_labels = sorted_discount.State\n",
    "profit_labels = sorted_profit.State\n",
    "\n",
    "plt.pie(sales_values, labels=sales_labels, autopct='%1.f%%')\n",
    "plt.title(\"Top 10 State in US with Highest Sales\", fontsize=20)\n",
    "plt.show()\n",
    "\n",
    "plt.pie(quantity_values, labels=quantity_labels, autopct='%1.f%%')\n",
    "plt.title(\"Top 10 State in US with Highest Quantity Sold\", fontsize=20)\n",
    "plt.show()\n",
    "\n",
    "plt.pie(discount_values, labels=discount_labels, autopct='%1.f%%')\n",
    "plt.title(\"Top 10 State in US with Highest Discount offered\", fontsize=20)\n",
    "plt.show()\n",
    "\n",
    "plt.pie(profit_values, labels=profit_labels, autopct='%1.f%%')\n",
    "plt.title(\"Top 10 State in US with Highest Profit Gained\", fontsize=20)\n",
    "plt.show()"
   ]
  },
  {
   "cell_type": "markdown",
   "id": "0b14f627",
   "metadata": {},
   "source": [
    "Important Insights:\n",
    "\n",
    "California has shown highest profit, sales and quantities sold. The discount offered in this state is 10% of the total. "
   ]
  },
  {
   "cell_type": "markdown",
   "id": "ff8f9342",
   "metadata": {},
   "source": [
    "### Ship-Mode wise EDA"
   ]
  },
  {
   "cell_type": "code",
   "execution_count": 24,
   "id": "ba487508",
   "metadata": {},
   "outputs": [
    {
     "data": {
      "text/html": [
       "<div>\n",
       "<style scoped>\n",
       "    .dataframe tbody tr th:only-of-type {\n",
       "        vertical-align: middle;\n",
       "    }\n",
       "\n",
       "    .dataframe tbody tr th {\n",
       "        vertical-align: top;\n",
       "    }\n",
       "\n",
       "    .dataframe thead th {\n",
       "        text-align: right;\n",
       "    }\n",
       "</style>\n",
       "<table border=\"1\" class=\"dataframe\">\n",
       "  <thead>\n",
       "    <tr style=\"text-align: right;\">\n",
       "      <th></th>\n",
       "      <th>Ship Mode</th>\n",
       "      <th>Sales</th>\n",
       "      <th>Quantity</th>\n",
       "      <th>Discount</th>\n",
       "      <th>Profit</th>\n",
       "    </tr>\n",
       "  </thead>\n",
       "  <tbody>\n",
       "    <tr>\n",
       "      <th>0</th>\n",
       "      <td>First Class</td>\n",
       "      <td>3.514284e+05</td>\n",
       "      <td>5693</td>\n",
       "      <td>253.17</td>\n",
       "      <td>48969.8399</td>\n",
       "    </tr>\n",
       "    <tr>\n",
       "      <th>1</th>\n",
       "      <td>Same Day</td>\n",
       "      <td>1.283631e+05</td>\n",
       "      <td>1960</td>\n",
       "      <td>82.75</td>\n",
       "      <td>15891.7589</td>\n",
       "    </tr>\n",
       "    <tr>\n",
       "      <th>2</th>\n",
       "      <td>Second Class</td>\n",
       "      <td>4.591936e+05</td>\n",
       "      <td>7423</td>\n",
       "      <td>270.15</td>\n",
       "      <td>57446.6354</td>\n",
       "    </tr>\n",
       "    <tr>\n",
       "      <th>3</th>\n",
       "      <td>Standard Class</td>\n",
       "      <td>1.358216e+06</td>\n",
       "      <td>22797</td>\n",
       "      <td>955.02</td>\n",
       "      <td>164088.7875</td>\n",
       "    </tr>\n",
       "  </tbody>\n",
       "</table>\n",
       "</div>"
      ],
      "text/plain": [
       "        Ship Mode         Sales  Quantity  Discount       Profit\n",
       "0     First Class  3.514284e+05      5693    253.17   48969.8399\n",
       "1        Same Day  1.283631e+05      1960     82.75   15891.7589\n",
       "2    Second Class  4.591936e+05      7423    270.15   57446.6354\n",
       "3  Standard Class  1.358216e+06     22797    955.02  164088.7875"
      ]
     },
     "execution_count": 24,
     "metadata": {},
     "output_type": "execute_result"
    }
   ],
   "source": [
    "shipmode_group"
   ]
  },
  {
   "cell_type": "code",
   "execution_count": 25,
   "id": "64a89c12",
   "metadata": {},
   "outputs": [
    {
     "data": {
      "text/plain": [
       "Text(0.5, 1.0, 'Ship Mode-Wise Profit Gained')"
      ]
     },
     "execution_count": 25,
     "metadata": {},
     "output_type": "execute_result"
    },
    {
     "data": {
      "image/png": "[encoded data removed]",
      "text/plain": [
       "<Figure size 360x360 with 1 Axes>"
      ]
     },
     "metadata": {
      "needs_background": "light"
     },
     "output_type": "display_data"
    },
    {
     "data": {
      "image/png": "[encoded data removed]",
      "text/plain": [
       "<Figure size 360x360 with 1 Axes>"
      ]
     },
     "metadata": {
      "needs_background": "light"
     },
     "output_type": "display_data"
    },
    {
     "data": {
      "image/png": "[encoded data removed]",
      "text/plain": [
       "<Figure size 360x360 with 1 Axes>"
      ]
     },
     "metadata": {
      "needs_background": "light"
     },
     "output_type": "display_data"
    },
    {
     "data": {
      "image/png": "[encoded data removed]",
      "text/plain": [
       "<Figure size 360x360 with 1 Axes>"
      ]
     },
     "metadata": {
      "needs_background": "light"
     },
     "output_type": "display_data"
    }
   ],
   "source": [
    "a = sns.catplot(x=\"Ship Mode\", y=\"Sales\", data=shipmode_group, kind='bar')\n",
    "for ax in a.axes.ravel():\n",
    "  for p in ax.patches:\n",
    "    ax.annotate(format(p.get_height(), '.2f'), \n",
    "                (p.get_x() + p.get_width() / 2., p.get_height()), \n",
    "                ha = 'center', va = 'center', xytext = (0, -100), \n",
    "                textcoords = 'offset points')\n",
    "plt.title(\"Ship Mode-Wise Sales Done\", fontsize=20)\n",
    "\n",
    "b = sns.catplot(x=\"Ship Mode\", y=\"Quantity\", data=shipmode_group, kind='bar')\n",
    "for ax in b.axes.ravel():\n",
    "  for p in ax.patches:\n",
    "    ax.annotate(format(p.get_height(), '.2f'), \n",
    "                (p.get_x() + p.get_width() / 2., p.get_height()), \n",
    "                ha = 'center', va = 'center', xytext = (0, -100), \n",
    "                textcoords = 'offset points')\n",
    "plt.title(\"Ship Mode-Wise Quantity Sold\", fontsize=20)\n",
    "\n",
    "c = sns.catplot(x=\"Ship Mode\", y=\"Discount\", data=shipmode_group, kind='bar')\n",
    "for ax in c.axes.ravel():\n",
    "  for p in ax.patches:\n",
    "    ax.annotate(format(p.get_height(), '.2f'), \n",
    "                (p.get_x() + p.get_width() / 2., p.get_height()), \n",
    "                ha = 'center', va = 'center', xytext = (0, -100), \n",
    "                textcoords = 'offset points')\n",
    "plt.title(\"Ship Mode-Wise Discount Offered\", fontsize=20)\n",
    "\n",
    "d = sns.catplot(x=\"Ship Mode\", y=\"Profit\", data=shipmode_group, kind='bar')\n",
    "for ax in d.axes.ravel():\n",
    "  for p in ax.patches:\n",
    "    ax.annotate(format(p.get_height(), '.2f'), \n",
    "                (p.get_x() + p.get_width() / 2., p.get_height()), \n",
    "                ha = 'center', va = 'center', xytext = (0, -100), \n",
    "                textcoords = 'offset points')\n",
    "plt.title(\"Ship Mode-Wise Profit Gained\", fontsize=20)"
   ]
  },
  {
   "cell_type": "markdown",
   "id": "830a2d4d",
   "metadata": {},
   "source": [
    "Important Insights:\n",
    "\n",
    "Standard class shipping mode option has shown highest sales, profit, quantities sold and discount offered. \n",
    "\n",
    "All parameters are lowest for same day shipping mode option."
   ]
  },
  {
   "cell_type": "markdown",
   "id": "9de7c391",
   "metadata": {},
   "source": [
    "### Business Problems that can be derived after exploring the data. "
   ]
  },
  {
   "cell_type": "markdown",
   "id": "69a23a3e",
   "metadata": {},
   "source": [
    "- How does the sales, profit, discount and quantity sold varies region-wise, state-wise and segment-wise, category-wise?\n",
    "- Which are the top 3 best selling products?\n",
    "- Which are the top 3 profit making products?\n",
    "- Which type of mode is suitable for more profit?\n",
    "- Which country has the highest profit?\n",
    "- Which region has the highest sales and profit?\n",
    "- Does discount offered show impact on sales and profit?"
   ]
  },
  {
   "cell_type": "markdown",
   "id": "c21b9539",
   "metadata": {},
   "source": [
    "### Summary and Inferences drawn from EDA"
   ]
  },
  {
   "cell_type": "markdown",
   "id": "da668558",
   "metadata": {},
   "source": [
    "- Assuming the data belongs to same time frame for all products. The superstore sells 17 products under 3 categories. If we analyse the sales, profit and quantity of products sold by the categories we can see that:\n",
    "- Furniture category is making least profit among the three and the quantity sold is greater than technology category. Hence, the store management needs to focus on this category. \n",
    "- **Tables and Bookcases** have generated significant **loss** to the store. Hence, management needs to focus on these two products. Further data will be required to understand why the loss?\n",
    "- **Copiers is the star product of the store**. The quantity sold is least among all other products, the dicount offered is the least among all the products, but the profit is highest. Copiers seems to be the most popular product.\n",
    "- Phones were sold in huge quantity and has generated second highest profit. Accessories have also generated significant profit. \n",
    "- Copiers, Phones, and Accessories are the top 3 profitable products. \n",
    "- Binders, papers and furnishings are top 3 best selling products. \n",
    "- Art,Enevlops and labels have not incurred any loss and totally profit making products.\n",
    "- Chairs have also generated significant sales thereby being profitable. \n",
    "- Consumer is the profitable customer segment.\n",
    "- Store management can increase their sales at western and central region. \n",
    "- Profits earned are highest western part of the US. The store must increase their sales in this region.\n",
    "- California state have highest sales, maximum profit and highest quantity sold with minimum discounts. The store must boost their spread in top 10 states by reaching all the cities. "
   ]
  },
  {
   "cell_type": "markdown",
   "id": "a18d9774",
   "metadata": {},
   "source": [
    "Now, in order to find out weak areas where the store can work in order to earn more profit we must look at the loss making products and conduct EDA to understand the root cause. "
   ]
  },
  {
   "cell_type": "markdown",
   "id": "e3f953b5",
   "metadata": {},
   "source": [
    "### Finding weak areas of the business by understanding parameters contributing the loss"
   ]
  },
  {
   "cell_type": "markdown",
   "id": "57117422",
   "metadata": {},
   "source": [
    "### Creating loss dataframe"
   ]
  },
  {
   "cell_type": "code",
   "execution_count": 26,
   "id": "72a2e764",
   "metadata": {},
   "outputs": [],
   "source": [
    "loss_df = df[df['Profit']<0]"
   ]
  },
  {
   "cell_type": "code",
   "execution_count": 27,
   "id": "2717fb1e",
   "metadata": {},
   "outputs": [
    {
     "data": {
      "text/html": [
       "<div>\n",
       "<style scoped>\n",
       "    .dataframe tbody tr th:only-of-type {\n",
       "        vertical-align: middle;\n",
       "    }\n",
       "\n",
       "    .dataframe tbody tr th {\n",
       "        vertical-align: top;\n",
       "    }\n",
       "\n",
       "    .dataframe thead th {\n",
       "        text-align: right;\n",
       "    }\n",
       "</style>\n",
       "<table border=\"1\" class=\"dataframe\">\n",
       "  <thead>\n",
       "    <tr style=\"text-align: right;\">\n",
       "      <th></th>\n",
       "      <th>Ship Mode</th>\n",
       "      <th>Segment</th>\n",
       "      <th>Country</th>\n",
       "      <th>City</th>\n",
       "      <th>State</th>\n",
       "      <th>Postal Code</th>\n",
       "      <th>Region</th>\n",
       "      <th>Category</th>\n",
       "      <th>Sub-Category</th>\n",
       "      <th>Sales</th>\n",
       "      <th>Quantity</th>\n",
       "      <th>Discount</th>\n",
       "      <th>Profit</th>\n",
       "    </tr>\n",
       "  </thead>\n",
       "  <tbody>\n",
       "    <tr>\n",
       "      <th>3</th>\n",
       "      <td>Standard Class</td>\n",
       "      <td>Consumer</td>\n",
       "      <td>United States</td>\n",
       "      <td>Fort Lauderdale</td>\n",
       "      <td>Florida</td>\n",
       "      <td>33311</td>\n",
       "      <td>South</td>\n",
       "      <td>Furniture</td>\n",
       "      <td>Tables</td>\n",
       "      <td>957.5775</td>\n",
       "      <td>5</td>\n",
       "      <td>0.45</td>\n",
       "      <td>-383.0310</td>\n",
       "    </tr>\n",
       "    <tr>\n",
       "      <th>14</th>\n",
       "      <td>Standard Class</td>\n",
       "      <td>Home Office</td>\n",
       "      <td>United States</td>\n",
       "      <td>Fort Worth</td>\n",
       "      <td>Texas</td>\n",
       "      <td>76106</td>\n",
       "      <td>Central</td>\n",
       "      <td>Office Supplies</td>\n",
       "      <td>Appliances</td>\n",
       "      <td>68.8100</td>\n",
       "      <td>5</td>\n",
       "      <td>0.80</td>\n",
       "      <td>-123.8580</td>\n",
       "    </tr>\n",
       "    <tr>\n",
       "      <th>15</th>\n",
       "      <td>Standard Class</td>\n",
       "      <td>Home Office</td>\n",
       "      <td>United States</td>\n",
       "      <td>Fort Worth</td>\n",
       "      <td>Texas</td>\n",
       "      <td>76106</td>\n",
       "      <td>Central</td>\n",
       "      <td>Office Supplies</td>\n",
       "      <td>Binders</td>\n",
       "      <td>2.5440</td>\n",
       "      <td>3</td>\n",
       "      <td>0.80</td>\n",
       "      <td>-3.8160</td>\n",
       "    </tr>\n",
       "    <tr>\n",
       "      <th>23</th>\n",
       "      <td>Second Class</td>\n",
       "      <td>Consumer</td>\n",
       "      <td>United States</td>\n",
       "      <td>Philadelphia</td>\n",
       "      <td>Pennsylvania</td>\n",
       "      <td>19140</td>\n",
       "      <td>East</td>\n",
       "      <td>Furniture</td>\n",
       "      <td>Chairs</td>\n",
       "      <td>71.3720</td>\n",
       "      <td>2</td>\n",
       "      <td>0.30</td>\n",
       "      <td>-1.0196</td>\n",
       "    </tr>\n",
       "    <tr>\n",
       "      <th>27</th>\n",
       "      <td>Standard Class</td>\n",
       "      <td>Consumer</td>\n",
       "      <td>United States</td>\n",
       "      <td>Philadelphia</td>\n",
       "      <td>Pennsylvania</td>\n",
       "      <td>19140</td>\n",
       "      <td>East</td>\n",
       "      <td>Furniture</td>\n",
       "      <td>Bookcases</td>\n",
       "      <td>3083.4300</td>\n",
       "      <td>7</td>\n",
       "      <td>0.50</td>\n",
       "      <td>-1665.0522</td>\n",
       "    </tr>\n",
       "  </tbody>\n",
       "</table>\n",
       "</div>"
      ],
      "text/plain": [
       "         Ship Mode      Segment        Country             City         State  \\\n",
       "3   Standard Class     Consumer  United States  Fort Lauderdale       Florida   \n",
       "14  Standard Class  Home Office  United States       Fort Worth         Texas   \n",
       "15  Standard Class  Home Office  United States       Fort Worth         Texas   \n",
       "23    Second Class     Consumer  United States     Philadelphia  Pennsylvania   \n",
       "27  Standard Class     Consumer  United States     Philadelphia  Pennsylvania   \n",
       "\n",
       "    Postal Code   Region         Category Sub-Category      Sales  Quantity  \\\n",
       "3         33311    South        Furniture       Tables   957.5775         5   \n",
       "14        76106  Central  Office Supplies   Appliances    68.8100         5   \n",
       "15        76106  Central  Office Supplies      Binders     2.5440         3   \n",
       "23        19140     East        Furniture       Chairs    71.3720         2   \n",
       "27        19140     East        Furniture    Bookcases  3083.4300         7   \n",
       "\n",
       "    Discount     Profit  \n",
       "3       0.45  -383.0310  \n",
       "14      0.80  -123.8580  \n",
       "15      0.80    -3.8160  \n",
       "23      0.30    -1.0196  \n",
       "27      0.50 -1665.0522  "
      ]
     },
     "execution_count": 27,
     "metadata": {},
     "output_type": "execute_result"
    }
   ],
   "source": [
    "loss_df.head()"
   ]
  },
  {
   "cell_type": "code",
   "execution_count": 28,
   "id": "a4366a79",
   "metadata": {},
   "outputs": [
    {
     "data": {
      "text/plain": [
       "(1871, 13)"
      ]
     },
     "execution_count": 28,
     "metadata": {},
     "output_type": "execute_result"
    }
   ],
   "source": [
    "loss_df.shape"
   ]
  },
  {
   "cell_type": "markdown",
   "id": "a729fb59",
   "metadata": {},
   "source": [
    "For detailed analysis, we can divide the loss dataframe into 5 small dataframes as follows. "
   ]
  },
  {
   "cell_type": "code",
   "execution_count": 29,
   "id": "b9bcb133",
   "metadata": {},
   "outputs": [],
   "source": [
    "category_loss = loss_df.groupby(['Category', 'Sub-Category'])['Sales','Quantity','Discount','Profit'].sum().reset_index()\n",
    "segment_loss = loss_df.groupby(['Segment'])['Sales','Quantity','Discount','Profit'].sum().reset_index()\n",
    "region_loss = loss_df.groupby(['Region'])['Sales','Quantity','Discount','Profit'].sum().reset_index()\n",
    "state_loss = loss_df.groupby(['State'])['Sales','Quantity','Discount','Profit'].sum().reset_index()\n",
    "shipmode_loss = loss_df.groupby(['Ship Mode'])['Sales','Quantity','Discount','Profit'].sum().reset_index()"
   ]
  },
  {
   "cell_type": "markdown",
   "id": "7ab247b7",
   "metadata": {},
   "source": [
    "### Loss distribution based on product category"
   ]
  },
  {
   "cell_type": "code",
   "execution_count": 30,
   "id": "63aad792",
   "metadata": {
    "scrolled": false
   },
   "outputs": [
    {
     "data": {
      "text/html": [
       "<div>\n",
       "<style scoped>\n",
       "    .dataframe tbody tr th:only-of-type {\n",
       "        vertical-align: middle;\n",
       "    }\n",
       "\n",
       "    .dataframe tbody tr th {\n",
       "        vertical-align: top;\n",
       "    }\n",
       "\n",
       "    .dataframe thead th {\n",
       "        text-align: right;\n",
       "    }\n",
       "</style>\n",
       "<table border=\"1\" class=\"dataframe\">\n",
       "  <thead>\n",
       "    <tr style=\"text-align: right;\">\n",
       "      <th></th>\n",
       "      <th>Category</th>\n",
       "      <th>Sub-Category</th>\n",
       "      <th>Sales</th>\n",
       "      <th>Quantity</th>\n",
       "      <th>Discount</th>\n",
       "      <th>Profit</th>\n",
       "    </tr>\n",
       "  </thead>\n",
       "  <tbody>\n",
       "    <tr>\n",
       "      <th>0</th>\n",
       "      <td>Furniture</td>\n",
       "      <td>Bookcases</td>\n",
       "      <td>48072.7408</td>\n",
       "      <td>422</td>\n",
       "      <td>37.99</td>\n",
       "      <td>-12152.2060</td>\n",
       "    </tr>\n",
       "    <tr>\n",
       "      <th>1</th>\n",
       "      <td>Furniture</td>\n",
       "      <td>Chairs</td>\n",
       "      <td>91988.4560</td>\n",
       "      <td>876</td>\n",
       "      <td>61.40</td>\n",
       "      <td>-9880.8413</td>\n",
       "    </tr>\n",
       "    <tr>\n",
       "      <th>2</th>\n",
       "      <td>Furniture</td>\n",
       "      <td>Furnishings</td>\n",
       "      <td>12845.8440</td>\n",
       "      <td>597</td>\n",
       "      <td>88.60</td>\n",
       "      <td>-6490.9134</td>\n",
       "    </tr>\n",
       "    <tr>\n",
       "      <th>3</th>\n",
       "      <td>Furniture</td>\n",
       "      <td>Tables</td>\n",
       "      <td>104978.5460</td>\n",
       "      <td>757</td>\n",
       "      <td>74.15</td>\n",
       "      <td>-32412.1483</td>\n",
       "    </tr>\n",
       "    <tr>\n",
       "      <th>4</th>\n",
       "      <td>Office Supplies</td>\n",
       "      <td>Appliances</td>\n",
       "      <td>3382.5340</td>\n",
       "      <td>235</td>\n",
       "      <td>53.60</td>\n",
       "      <td>-8629.6412</td>\n",
       "    </tr>\n",
       "    <tr>\n",
       "      <th>5</th>\n",
       "      <td>Office Supplies</td>\n",
       "      <td>Binders</td>\n",
       "      <td>36140.6130</td>\n",
       "      <td>2456</td>\n",
       "      <td>452.40</td>\n",
       "      <td>-38510.4964</td>\n",
       "    </tr>\n",
       "    <tr>\n",
       "      <th>6</th>\n",
       "      <td>Office Supplies</td>\n",
       "      <td>Fasteners</td>\n",
       "      <td>149.2800</td>\n",
       "      <td>55</td>\n",
       "      <td>2.40</td>\n",
       "      <td>-33.1952</td>\n",
       "    </tr>\n",
       "    <tr>\n",
       "      <th>7</th>\n",
       "      <td>Office Supplies</td>\n",
       "      <td>Storage</td>\n",
       "      <td>37869.0720</td>\n",
       "      <td>569</td>\n",
       "      <td>32.20</td>\n",
       "      <td>-6426.3038</td>\n",
       "    </tr>\n",
       "    <tr>\n",
       "      <th>8</th>\n",
       "      <td>Office Supplies</td>\n",
       "      <td>Supplies</td>\n",
       "      <td>14067.1760</td>\n",
       "      <td>110</td>\n",
       "      <td>6.60</td>\n",
       "      <td>-3015.6219</td>\n",
       "    </tr>\n",
       "    <tr>\n",
       "      <th>9</th>\n",
       "      <td>Technology</td>\n",
       "      <td>Accessories</td>\n",
       "      <td>10958.8000</td>\n",
       "      <td>330</td>\n",
       "      <td>18.20</td>\n",
       "      <td>-930.6265</td>\n",
       "    </tr>\n",
       "    <tr>\n",
       "      <th>10</th>\n",
       "      <td>Technology</td>\n",
       "      <td>Machines</td>\n",
       "      <td>72456.2530</td>\n",
       "      <td>157</td>\n",
       "      <td>25.60</td>\n",
       "      <td>-30118.6682</td>\n",
       "    </tr>\n",
       "    <tr>\n",
       "      <th>11</th>\n",
       "      <td>Technology</td>\n",
       "      <td>Phones</td>\n",
       "      <td>35797.8400</td>\n",
       "      <td>476</td>\n",
       "      <td>46.60</td>\n",
       "      <td>-7530.6235</td>\n",
       "    </tr>\n",
       "  </tbody>\n",
       "</table>\n",
       "</div>"
      ],
      "text/plain": [
       "           Category Sub-Category        Sales  Quantity  Discount      Profit\n",
       "0         Furniture    Bookcases   48072.7408       422     37.99 -12152.2060\n",
       "1         Furniture       Chairs   91988.4560       876     61.40  -9880.8413\n",
       "2         Furniture  Furnishings   12845.8440       597     88.60  -6490.9134\n",
       "3         Furniture       Tables  104978.5460       757     74.15 -32412.1483\n",
       "4   Office Supplies   Appliances    3382.5340       235     53.60  -8629.6412\n",
       "5   Office Supplies      Binders   36140.6130      2456    452.40 -38510.4964\n",
       "6   Office Supplies    Fasteners     149.2800        55      2.40    -33.1952\n",
       "7   Office Supplies      Storage   37869.0720       569     32.20  -6426.3038\n",
       "8   Office Supplies     Supplies   14067.1760       110      6.60  -3015.6219\n",
       "9        Technology  Accessories   10958.8000       330     18.20   -930.6265\n",
       "10       Technology     Machines   72456.2530       157     25.60 -30118.6682\n",
       "11       Technology       Phones   35797.8400       476     46.60  -7530.6235"
      ]
     },
     "execution_count": 30,
     "metadata": {},
     "output_type": "execute_result"
    }
   ],
   "source": [
    "category_loss"
   ]
  },
  {
   "cell_type": "code",
   "execution_count": 31,
   "id": "7abc5734",
   "metadata": {},
   "outputs": [
    {
     "data": {
      "image/png": "[encoded data removed]",
      "text/plain": [
       "<Figure size 1080x360 with 3 Axes>"
      ]
     },
     "metadata": {
      "needs_background": "light"
     },
     "output_type": "display_data"
    },
    {
     "data": {
      "image/png": "[encoded data removed]",
      "text/plain": [
       "<Figure size 1080x360 with 3 Axes>"
      ]
     },
     "metadata": {
      "needs_background": "light"
     },
     "output_type": "display_data"
    },
    {
     "data": {
      "image/png": "[encoded data removed]",
      "text/plain": [
       "<Figure size 1080x360 with 3 Axes>"
      ]
     },
     "metadata": {
      "needs_background": "light"
     },
     "output_type": "display_data"
    },
    {
     "data": {
      "image/png": "[encoded data removed]",
      "text/plain": [
       "<Figure size 1080x360 with 3 Axes>"
      ]
     },
     "metadata": {
      "needs_background": "light"
     },
     "output_type": "display_data"
    }
   ],
   "source": [
    "a = sns.catplot(x=\"Profit\", \n",
    "                y=\"Sub-Category\",\n",
    "                col=\"Category\",\n",
    "                data=category_loss,\n",
    "                kind='bar')\n",
    "\n",
    "b = sns.catplot(x=\"Quantity\", \n",
    "                y=\"Sub-Category\",\n",
    "                col=\"Category\",\n",
    "                data=category_loss,\n",
    "                kind='bar')\n",
    "\n",
    "c = sns.catplot(x=\"Discount\", \n",
    "                y=\"Sub-Category\",\n",
    "                col=\"Category\",\n",
    "                data=category_loss,\n",
    "                kind='bar')\n",
    "\n",
    "d = sns.catplot(x=\"Sales\", \n",
    "                y=\"Sub-Category\",\n",
    "                col=\"Category\",\n",
    "                data=category_loss,\n",
    "                kind='bar')"
   ]
  },
  {
   "cell_type": "markdown",
   "id": "1b5bd6e6",
   "metadata": {},
   "source": [
    "Some pointers on weak areas:\n",
    "There are 12 products which have incurred certain amount of loss for the given period of time. \n",
    "From the sub-categorical analysis of products it is clear that \n",
    "1. Tables is the loss making products. The sales and the discount offered are fairly good. \n",
    "Hence, the management can consider doing further analysis of this product like checking the quality or try changing the vendors of the product. \n",
    "2. Bookcases is second highest loss making product. Again here the sales and discount offered looks fairly good. Management should do further analysis, taking customer feedback might help. \n",
    "3. Supplies is another loss making product subcategory. The quantity sold and discount offered is significantly less as compared to other products under same category (office supplies). Increasing discounts might help in increasing sales. \n",
    "4. Machine is a very interesting sub-category. If we check the overall profit it comes out to be 3384 however, if we only consider negative entries under profit column the total loss comes out to be approximately 30,000 which is third highest. The management team must look into this sub-category, further analysis of products under machines which are causing more losses is suggested in order to improve overall business. "
   ]
  },
  {
   "cell_type": "markdown",
   "id": "9dfdaf7a",
   "metadata": {},
   "source": [
    "### Loss EDA based on Customer Segment"
   ]
  },
  {
   "cell_type": "code",
   "execution_count": 33,
   "id": "2879c7c5",
   "metadata": {},
   "outputs": [
    {
     "data": {
      "text/html": [
       "<div>\n",
       "<style scoped>\n",
       "    .dataframe tbody tr th:only-of-type {\n",
       "        vertical-align: middle;\n",
       "    }\n",
       "\n",
       "    .dataframe tbody tr th {\n",
       "        vertical-align: top;\n",
       "    }\n",
       "\n",
       "    .dataframe thead th {\n",
       "        text-align: right;\n",
       "    }\n",
       "</style>\n",
       "<table border=\"1\" class=\"dataframe\">\n",
       "  <thead>\n",
       "    <tr style=\"text-align: right;\">\n",
       "      <th></th>\n",
       "      <th>Segment</th>\n",
       "      <th>Sales</th>\n",
       "      <th>Quantity</th>\n",
       "      <th>Discount</th>\n",
       "      <th>Profit</th>\n",
       "    </tr>\n",
       "  </thead>\n",
       "  <tbody>\n",
       "    <tr>\n",
       "      <th>0</th>\n",
       "      <td>Consumer</td>\n",
       "      <td>247196.2460</td>\n",
       "      <td>3651</td>\n",
       "      <td>476.76</td>\n",
       "      <td>-84945.7112</td>\n",
       "    </tr>\n",
       "    <tr>\n",
       "      <th>1</th>\n",
       "      <td>Corporate</td>\n",
       "      <td>131860.5383</td>\n",
       "      <td>2191</td>\n",
       "      <td>272.00</td>\n",
       "      <td>-44787.2076</td>\n",
       "    </tr>\n",
       "    <tr>\n",
       "      <th>2</th>\n",
       "      <td>Home Office</td>\n",
       "      <td>89650.3705</td>\n",
       "      <td>1198</td>\n",
       "      <td>150.98</td>\n",
       "      <td>-26398.3669</td>\n",
       "    </tr>\n",
       "  </tbody>\n",
       "</table>\n",
       "</div>"
      ],
      "text/plain": [
       "       Segment        Sales  Quantity  Discount      Profit\n",
       "0     Consumer  247196.2460      3651    476.76 -84945.7112\n",
       "1    Corporate  131860.5383      2191    272.00 -44787.2076\n",
       "2  Home Office   89650.3705      1198    150.98 -26398.3669"
      ]
     },
     "execution_count": 33,
     "metadata": {},
     "output_type": "execute_result"
    }
   ],
   "source": [
    "segment_loss"
   ]
  },
  {
   "cell_type": "code",
   "execution_count": 34,
   "id": "e002a198",
   "metadata": {},
   "outputs": [
    {
     "data": {
      "text/html": [
       "<div>\n",
       "<style scoped>\n",
       "    .dataframe tbody tr th:only-of-type {\n",
       "        vertical-align: middle;\n",
       "    }\n",
       "\n",
       "    .dataframe tbody tr th {\n",
       "        vertical-align: top;\n",
       "    }\n",
       "\n",
       "    .dataframe thead th {\n",
       "        text-align: right;\n",
       "    }\n",
       "</style>\n",
       "<table border=\"1\" class=\"dataframe\">\n",
       "  <thead>\n",
       "    <tr style=\"text-align: right;\">\n",
       "      <th></th>\n",
       "      <th>Segment</th>\n",
       "      <th>Sales</th>\n",
       "      <th>Quantity</th>\n",
       "      <th>Discount</th>\n",
       "      <th>Profit</th>\n",
       "    </tr>\n",
       "  </thead>\n",
       "  <tbody>\n",
       "    <tr>\n",
       "      <th>0</th>\n",
       "      <td>Consumer</td>\n",
       "      <td>1.161401e+06</td>\n",
       "      <td>19521</td>\n",
       "      <td>820.91</td>\n",
       "      <td>134119.2092</td>\n",
       "    </tr>\n",
       "    <tr>\n",
       "      <th>1</th>\n",
       "      <td>Corporate</td>\n",
       "      <td>7.061464e+05</td>\n",
       "      <td>11608</td>\n",
       "      <td>477.85</td>\n",
       "      <td>91979.1340</td>\n",
       "    </tr>\n",
       "    <tr>\n",
       "      <th>2</th>\n",
       "      <td>Home Office</td>\n",
       "      <td>4.296531e+05</td>\n",
       "      <td>6744</td>\n",
       "      <td>262.33</td>\n",
       "      <td>60298.6785</td>\n",
       "    </tr>\n",
       "  </tbody>\n",
       "</table>\n",
       "</div>"
      ],
      "text/plain": [
       "       Segment         Sales  Quantity  Discount       Profit\n",
       "0     Consumer  1.161401e+06     19521    820.91  134119.2092\n",
       "1    Corporate  7.061464e+05     11608    477.85   91979.1340\n",
       "2  Home Office  4.296531e+05      6744    262.33   60298.6785"
      ]
     },
     "execution_count": 34,
     "metadata": {},
     "output_type": "execute_result"
    }
   ],
   "source": [
    "segment_group"
   ]
  },
  {
   "cell_type": "markdown",
   "id": "08a6879c",
   "metadata": {},
   "source": [
    "All the three customer segments have incurred certain amount of losses. Consumer segment have generated more losses if we just consider loss entries. "
   ]
  },
  {
   "cell_type": "markdown",
   "id": "d99f8c46",
   "metadata": {},
   "source": [
    "### Loss EDA based on Region"
   ]
  },
  {
   "cell_type": "code",
   "execution_count": 35,
   "id": "b9b5fde0",
   "metadata": {},
   "outputs": [
    {
     "data": {
      "text/html": [
       "<div>\n",
       "<style scoped>\n",
       "    .dataframe tbody tr th:only-of-type {\n",
       "        vertical-align: middle;\n",
       "    }\n",
       "\n",
       "    .dataframe tbody tr th {\n",
       "        vertical-align: top;\n",
       "    }\n",
       "\n",
       "    .dataframe thead th {\n",
       "        text-align: right;\n",
       "    }\n",
       "</style>\n",
       "<table border=\"1\" class=\"dataframe\">\n",
       "  <thead>\n",
       "    <tr style=\"text-align: right;\">\n",
       "      <th></th>\n",
       "      <th>Region</th>\n",
       "      <th>Sales</th>\n",
       "      <th>Quantity</th>\n",
       "      <th>Discount</th>\n",
       "      <th>Profit</th>\n",
       "    </tr>\n",
       "  </thead>\n",
       "  <tbody>\n",
       "    <tr>\n",
       "      <th>0</th>\n",
       "      <td>Central</td>\n",
       "      <td>141282.6588</td>\n",
       "      <td>2803</td>\n",
       "      <td>407.14</td>\n",
       "      <td>-56314.8850</td>\n",
       "    </tr>\n",
       "    <tr>\n",
       "      <th>1</th>\n",
       "      <td>East</td>\n",
       "      <td>160864.0120</td>\n",
       "      <td>1988</td>\n",
       "      <td>247.10</td>\n",
       "      <td>-49590.6075</td>\n",
       "    </tr>\n",
       "    <tr>\n",
       "      <th>2</th>\n",
       "      <td>South</td>\n",
       "      <td>91635.1850</td>\n",
       "      <td>1004</td>\n",
       "      <td>127.35</td>\n",
       "      <td>-27504.8323</td>\n",
       "    </tr>\n",
       "    <tr>\n",
       "      <th>3</th>\n",
       "      <td>West</td>\n",
       "      <td>74925.2990</td>\n",
       "      <td>1245</td>\n",
       "      <td>118.15</td>\n",
       "      <td>-22720.9609</td>\n",
       "    </tr>\n",
       "  </tbody>\n",
       "</table>\n",
       "</div>"
      ],
      "text/plain": [
       "    Region        Sales  Quantity  Discount      Profit\n",
       "0  Central  141282.6588      2803    407.14 -56314.8850\n",
       "1     East  160864.0120      1988    247.10 -49590.6075\n",
       "2    South   91635.1850      1004    127.35 -27504.8323\n",
       "3     West   74925.2990      1245    118.15 -22720.9609"
      ]
     },
     "execution_count": 35,
     "metadata": {},
     "output_type": "execute_result"
    }
   ],
   "source": [
    "region_loss"
   ]
  },
  {
   "cell_type": "code",
   "execution_count": 36,
   "id": "f8bc805a",
   "metadata": {},
   "outputs": [
    {
     "data": {
      "text/html": [
       "<div>\n",
       "<style scoped>\n",
       "    .dataframe tbody tr th:only-of-type {\n",
       "        vertical-align: middle;\n",
       "    }\n",
       "\n",
       "    .dataframe tbody tr th {\n",
       "        vertical-align: top;\n",
       "    }\n",
       "\n",
       "    .dataframe thead th {\n",
       "        text-align: right;\n",
       "    }\n",
       "</style>\n",
       "<table border=\"1\" class=\"dataframe\">\n",
       "  <thead>\n",
       "    <tr style=\"text-align: right;\">\n",
       "      <th></th>\n",
       "      <th>Region</th>\n",
       "      <th>Sales</th>\n",
       "      <th>Quantity</th>\n",
       "      <th>Discount</th>\n",
       "      <th>Profit</th>\n",
       "    </tr>\n",
       "  </thead>\n",
       "  <tbody>\n",
       "    <tr>\n",
       "      <th>0</th>\n",
       "      <td>Central</td>\n",
       "      <td>501239.8908</td>\n",
       "      <td>8780</td>\n",
       "      <td>558.34</td>\n",
       "      <td>39706.3625</td>\n",
       "    </tr>\n",
       "    <tr>\n",
       "      <th>1</th>\n",
       "      <td>East</td>\n",
       "      <td>678781.2400</td>\n",
       "      <td>10618</td>\n",
       "      <td>414.00</td>\n",
       "      <td>91522.7800</td>\n",
       "    </tr>\n",
       "    <tr>\n",
       "      <th>2</th>\n",
       "      <td>South</td>\n",
       "      <td>391721.9050</td>\n",
       "      <td>6209</td>\n",
       "      <td>238.55</td>\n",
       "      <td>46749.4303</td>\n",
       "    </tr>\n",
       "    <tr>\n",
       "      <th>3</th>\n",
       "      <td>West</td>\n",
       "      <td>725457.8245</td>\n",
       "      <td>12266</td>\n",
       "      <td>350.20</td>\n",
       "      <td>108418.4489</td>\n",
       "    </tr>\n",
       "  </tbody>\n",
       "</table>\n",
       "</div>"
      ],
      "text/plain": [
       "    Region        Sales  Quantity  Discount       Profit\n",
       "0  Central  501239.8908      8780    558.34   39706.3625\n",
       "1     East  678781.2400     10618    414.00   91522.7800\n",
       "2    South  391721.9050      6209    238.55   46749.4303\n",
       "3     West  725457.8245     12266    350.20  108418.4489"
      ]
     },
     "execution_count": 36,
     "metadata": {},
     "output_type": "execute_result"
    }
   ],
   "source": [
    "region_group"
   ]
  },
  {
   "cell_type": "markdown",
   "id": "61f1f40e",
   "metadata": {},
   "source": [
    "From above tables we can conclude that central region is weak area in terms of sales and profits. It has generated least profit and have incurred maximum loss on sales of just 1.41 lakhs. Also discount offered in this area is highest.  "
   ]
  },
  {
   "cell_type": "markdown",
   "id": "d91bd31d",
   "metadata": {},
   "source": [
    "### Loss EDA based on States"
   ]
  },
  {
   "cell_type": "code",
   "execution_count": 37,
   "id": "6706e11f",
   "metadata": {},
   "outputs": [],
   "source": [
    "sorted_sales = state_loss.sort_values(['Sales'], \n",
    "                                        ascending=False)[:10]\n",
    "sorted_quantity = state_loss.sort_values(['Quantity'], \n",
    "                                        ascending=False)[:10]\n",
    "sorted_discount = state_loss.sort_values(['Discount'], \n",
    "                                        ascending=False)[:10]\n",
    "sorted_loss = state_loss.sort_values(['Profit'], \n",
    "                                        ascending=True)[:10]"
   ]
  },
  {
   "cell_type": "code",
   "execution_count": 38,
   "id": "d9442101",
   "metadata": {},
   "outputs": [
    {
     "data": {
      "text/html": [
       "<div>\n",
       "<style scoped>\n",
       "    .dataframe tbody tr th:only-of-type {\n",
       "        vertical-align: middle;\n",
       "    }\n",
       "\n",
       "    .dataframe tbody tr th {\n",
       "        vertical-align: top;\n",
       "    }\n",
       "\n",
       "    .dataframe thead th {\n",
       "        text-align: right;\n",
       "    }\n",
       "</style>\n",
       "<table border=\"1\" class=\"dataframe\">\n",
       "  <thead>\n",
       "    <tr style=\"text-align: right;\">\n",
       "      <th></th>\n",
       "      <th>State</th>\n",
       "      <th>Sales</th>\n",
       "      <th>Quantity</th>\n",
       "      <th>Discount</th>\n",
       "      <th>Profit</th>\n",
       "    </tr>\n",
       "  </thead>\n",
       "  <tbody>\n",
       "    <tr>\n",
       "      <th>20</th>\n",
       "      <td>Texas</td>\n",
       "      <td>102656.4568</td>\n",
       "      <td>1855</td>\n",
       "      <td>263.24</td>\n",
       "      <td>-36813.1875</td>\n",
       "    </tr>\n",
       "    <tr>\n",
       "      <th>15</th>\n",
       "      <td>Ohio</td>\n",
       "      <td>49807.6240</td>\n",
       "      <td>778</td>\n",
       "      <td>98.70</td>\n",
       "      <td>-21750.0002</td>\n",
       "    </tr>\n",
       "    <tr>\n",
       "      <th>17</th>\n",
       "      <td>Pennsylvania</td>\n",
       "      <td>75792.2320</td>\n",
       "      <td>993</td>\n",
       "      <td>128.10</td>\n",
       "      <td>-21602.8515</td>\n",
       "    </tr>\n",
       "    <tr>\n",
       "      <th>6</th>\n",
       "      <td>Illinois</td>\n",
       "      <td>38626.2020</td>\n",
       "      <td>948</td>\n",
       "      <td>143.90</td>\n",
       "      <td>-19501.6975</td>\n",
       "    </tr>\n",
       "    <tr>\n",
       "      <th>14</th>\n",
       "      <td>North Carolina</td>\n",
       "      <td>28226.5400</td>\n",
       "      <td>300</td>\n",
       "      <td>34.40</td>\n",
       "      <td>-11557.9854</td>\n",
       "    </tr>\n",
       "    <tr>\n",
       "      <th>2</th>\n",
       "      <td>Colorado</td>\n",
       "      <td>12833.2140</td>\n",
       "      <td>269</td>\n",
       "      <td>34.40</td>\n",
       "      <td>-8900.9048</td>\n",
       "    </tr>\n",
       "    <tr>\n",
       "      <th>5</th>\n",
       "      <td>Florida</td>\n",
       "      <td>45694.1320</td>\n",
       "      <td>478</td>\n",
       "      <td>63.25</td>\n",
       "      <td>-8689.8295</td>\n",
       "    </tr>\n",
       "    <tr>\n",
       "      <th>19</th>\n",
       "      <td>Tennessee</td>\n",
       "      <td>17714.5130</td>\n",
       "      <td>226</td>\n",
       "      <td>29.70</td>\n",
       "      <td>-7257.0174</td>\n",
       "    </tr>\n",
       "    <tr>\n",
       "      <th>0</th>\n",
       "      <td>Arizona</td>\n",
       "      <td>14179.0490</td>\n",
       "      <td>354</td>\n",
       "      <td>40.20</td>\n",
       "      <td>-6656.7675</td>\n",
       "    </tr>\n",
       "    <tr>\n",
       "      <th>13</th>\n",
       "      <td>New York</td>\n",
       "      <td>26533.3500</td>\n",
       "      <td>160</td>\n",
       "      <td>14.60</td>\n",
       "      <td>-5031.1378</td>\n",
       "    </tr>\n",
       "  </tbody>\n",
       "</table>\n",
       "</div>"
      ],
      "text/plain": [
       "             State        Sales  Quantity  Discount      Profit\n",
       "20           Texas  102656.4568      1855    263.24 -36813.1875\n",
       "15            Ohio   49807.6240       778     98.70 -21750.0002\n",
       "17    Pennsylvania   75792.2320       993    128.10 -21602.8515\n",
       "6         Illinois   38626.2020       948    143.90 -19501.6975\n",
       "14  North Carolina   28226.5400       300     34.40 -11557.9854\n",
       "2         Colorado   12833.2140       269     34.40  -8900.9048\n",
       "5          Florida   45694.1320       478     63.25  -8689.8295\n",
       "19       Tennessee   17714.5130       226     29.70  -7257.0174\n",
       "0          Arizona   14179.0490       354     40.20  -6656.7675\n",
       "13        New York   26533.3500       160     14.60  -5031.1378"
      ]
     },
     "execution_count": 38,
     "metadata": {},
     "output_type": "execute_result"
    }
   ],
   "source": [
    "sorted_loss"
   ]
  },
  {
   "cell_type": "code",
   "execution_count": 39,
   "id": "ff66d6da",
   "metadata": {},
   "outputs": [
    {
     "data": {
      "image/png": "[encoded data removed]",
      "text/plain": [
       "<Figure size 432x288 with 1 Axes>"
      ]
     },
     "metadata": {},
     "output_type": "display_data"
    }
   ],
   "source": [
    "loss_values = abs(sorted_loss.Profit)\n",
    "loss_labels = sorted_loss.State\n",
    "\n",
    "\n",
    "plt.pie(loss_values, labels=loss_labels, autopct='%1.f%%')\n",
    "plt.title(\"Top 10 State in US with Highest loss incurred\", fontsize=20)\n",
    "plt.show()"
   ]
  },
  {
   "cell_type": "markdown",
   "id": "a18c20d4",
   "metadata": {},
   "source": [
    "Texas has incurred higher losses. The management must focus on above 10 states. "
   ]
  },
  {
   "cell_type": "markdown",
   "id": "20772bdd",
   "metadata": {},
   "source": [
    "### Loss EDA based on Shipmode  "
   ]
  },
  {
   "cell_type": "code",
   "execution_count": 40,
   "id": "9dd3fb59",
   "metadata": {},
   "outputs": [
    {
     "data": {
      "text/html": [
       "<div>\n",
       "<style scoped>\n",
       "    .dataframe tbody tr th:only-of-type {\n",
       "        vertical-align: middle;\n",
       "    }\n",
       "\n",
       "    .dataframe tbody tr th {\n",
       "        vertical-align: top;\n",
       "    }\n",
       "\n",
       "    .dataframe thead th {\n",
       "        text-align: right;\n",
       "    }\n",
       "</style>\n",
       "<table border=\"1\" class=\"dataframe\">\n",
       "  <thead>\n",
       "    <tr style=\"text-align: right;\">\n",
       "      <th></th>\n",
       "      <th>Ship Mode</th>\n",
       "      <th>Sales</th>\n",
       "      <th>Quantity</th>\n",
       "      <th>Discount</th>\n",
       "      <th>Profit</th>\n",
       "    </tr>\n",
       "  </thead>\n",
       "  <tbody>\n",
       "    <tr>\n",
       "      <th>0</th>\n",
       "      <td>First Class</td>\n",
       "      <td>61560.1024</td>\n",
       "      <td>1102</td>\n",
       "      <td>144.52</td>\n",
       "      <td>-22660.2709</td>\n",
       "    </tr>\n",
       "    <tr>\n",
       "      <th>1</th>\n",
       "      <td>Same Day</td>\n",
       "      <td>28460.8410</td>\n",
       "      <td>370</td>\n",
       "      <td>45.95</td>\n",
       "      <td>-8898.1054</td>\n",
       "    </tr>\n",
       "    <tr>\n",
       "      <th>2</th>\n",
       "      <td>Second Class</td>\n",
       "      <td>81192.5249</td>\n",
       "      <td>1136</td>\n",
       "      <td>143.05</td>\n",
       "      <td>-24224.3729</td>\n",
       "    </tr>\n",
       "    <tr>\n",
       "      <th>3</th>\n",
       "      <td>Standard Class</td>\n",
       "      <td>297493.6865</td>\n",
       "      <td>4432</td>\n",
       "      <td>566.22</td>\n",
       "      <td>-100348.5365</td>\n",
       "    </tr>\n",
       "  </tbody>\n",
       "</table>\n",
       "</div>"
      ],
      "text/plain": [
       "        Ship Mode        Sales  Quantity  Discount       Profit\n",
       "0     First Class   61560.1024      1102    144.52  -22660.2709\n",
       "1        Same Day   28460.8410       370     45.95   -8898.1054\n",
       "2    Second Class   81192.5249      1136    143.05  -24224.3729\n",
       "3  Standard Class  297493.6865      4432    566.22 -100348.5365"
      ]
     },
     "execution_count": 40,
     "metadata": {},
     "output_type": "execute_result"
    }
   ],
   "source": [
    "shipmode_loss"
   ]
  },
  {
   "cell_type": "code",
   "execution_count": 41,
   "id": "46f7171c",
   "metadata": {},
   "outputs": [
    {
     "data": {
      "text/html": [
       "<div>\n",
       "<style scoped>\n",
       "    .dataframe tbody tr th:only-of-type {\n",
       "        vertical-align: middle;\n",
       "    }\n",
       "\n",
       "    .dataframe tbody tr th {\n",
       "        vertical-align: top;\n",
       "    }\n",
       "\n",
       "    .dataframe thead th {\n",
       "        text-align: right;\n",
       "    }\n",
       "</style>\n",
       "<table border=\"1\" class=\"dataframe\">\n",
       "  <thead>\n",
       "    <tr style=\"text-align: right;\">\n",
       "      <th></th>\n",
       "      <th>Ship Mode</th>\n",
       "      <th>Sales</th>\n",
       "      <th>Quantity</th>\n",
       "      <th>Discount</th>\n",
       "      <th>Profit</th>\n",
       "    </tr>\n",
       "  </thead>\n",
       "  <tbody>\n",
       "    <tr>\n",
       "      <th>0</th>\n",
       "      <td>First Class</td>\n",
       "      <td>3.514284e+05</td>\n",
       "      <td>5693</td>\n",
       "      <td>253.17</td>\n",
       "      <td>48969.8399</td>\n",
       "    </tr>\n",
       "    <tr>\n",
       "      <th>1</th>\n",
       "      <td>Same Day</td>\n",
       "      <td>1.283631e+05</td>\n",
       "      <td>1960</td>\n",
       "      <td>82.75</td>\n",
       "      <td>15891.7589</td>\n",
       "    </tr>\n",
       "    <tr>\n",
       "      <th>2</th>\n",
       "      <td>Second Class</td>\n",
       "      <td>4.591936e+05</td>\n",
       "      <td>7423</td>\n",
       "      <td>270.15</td>\n",
       "      <td>57446.6354</td>\n",
       "    </tr>\n",
       "    <tr>\n",
       "      <th>3</th>\n",
       "      <td>Standard Class</td>\n",
       "      <td>1.358216e+06</td>\n",
       "      <td>22797</td>\n",
       "      <td>955.02</td>\n",
       "      <td>164088.7875</td>\n",
       "    </tr>\n",
       "  </tbody>\n",
       "</table>\n",
       "</div>"
      ],
      "text/plain": [
       "        Ship Mode         Sales  Quantity  Discount       Profit\n",
       "0     First Class  3.514284e+05      5693    253.17   48969.8399\n",
       "1        Same Day  1.283631e+05      1960     82.75   15891.7589\n",
       "2    Second Class  4.591936e+05      7423    270.15   57446.6354\n",
       "3  Standard Class  1.358216e+06     22797    955.02  164088.7875"
      ]
     },
     "execution_count": 41,
     "metadata": {},
     "output_type": "execute_result"
    }
   ],
   "source": [
    "shipmode_group"
   ]
  },
  {
   "cell_type": "markdown",
   "id": "d7ca0b6a",
   "metadata": {},
   "source": [
    "All the ship mode ways have incurred certain amount of losses. As standard class seem to be most profitable option management can increase their orders by this delivery mode."
   ]
  },
  {
   "cell_type": "markdown",
   "id": "6f57a634",
   "metadata": {},
   "source": [
    "**Final Conclusion based on EDA of loss_df**:\n",
    "1. Tables, Bookcases, supplies are weak performing products. Machines need speacial attension as it is generating higher losses despite being profitable. \n",
    "2. Central region is causing higher looses hence needs special attension.\n",
    "3. Management must do further analysis on bottom 10 states which have generated lower profits. \n",
    "4. Standard class shipping mode is most profitable and have also incurred maximum losses hence the losses are need to be optimized in order to increase overall profits. "
   ]
  }
 ],
 "metadata": {
  "kernelspec": {
   "display_name": "Python 3 (ipykernel)",
   "language": "python",
   "name": "python3"
  },
  "language_info": {
   "codemirror_mode": {
    "name": "ipython",
    "version": 3
   },
   "file_extension": ".py",
   "mimetype": "text/x-python",
   "name": "python",
   "nbconvert_exporter": "python",
   "pygments_lexer": "ipython3",
   "version": "3.9.12"
  }
 },
 "nbformat": 4,
 "nbformat_minor": 5
}
